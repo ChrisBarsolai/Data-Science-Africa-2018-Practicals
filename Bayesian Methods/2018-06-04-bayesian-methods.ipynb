{
 "cells": [
  {
   "cell_type": "markdown",
   "metadata": {},
   "source": [
    "### Mike's Note:\n",
    "\n",
    "You'll needs `pods` to make this notebook work, please download by running:"
   ]
  },
  {
   "cell_type": "code",
   "execution_count": null,
   "metadata": {
    "collapsed": true
   },
   "outputs": [],
   "source": [
    "!pip install pods"
   ]
  },
  {
   "cell_type": "markdown",
   "metadata": {},
   "source": [
    "# Bayesian Methods\n",
    "### [Neil D. Lawrence](http://inverseprobability.com), Amazon Cambridge and University of Sheffield\n",
    "### 2018-06-04\n",
    "\n",
    "**Abstract**: Bayesian formalisms deal with uncertainty in parameters,\n",
    "\n",
    "$$\n",
    "\\newcommand{\\Amatrix}{\\mathbf{A}}\n",
    "\\newcommand{\\KL}[2]{\\text{KL}\\left( #1\\,\\|\\,#2 \\right)}\n",
    "\\newcommand{\\Kaast}{\\kernelMatrix_{\\mathbf{ \\ast}\\mathbf{ \\ast}}}\n",
    "\\newcommand{\\Kastu}{\\kernelMatrix_{\\mathbf{ \\ast} \\inducingVector}}\n",
    "\\newcommand{\\Kff}{\\kernelMatrix_{\\mappingFunctionVector \\mappingFunctionVector}}\n",
    "\\newcommand{\\Kfu}{\\kernelMatrix_{\\mappingFunctionVector \\inducingVector}}\n",
    "\\newcommand{\\Kuast}{\\kernelMatrix_{\\inducingVector \\bf\\ast}}\n",
    "\\newcommand{\\Kuf}{\\kernelMatrix_{\\inducingVector \\mappingFunctionVector}}\n",
    "\\newcommand{\\Kuu}{\\kernelMatrix_{\\inducingVector \\inducingVector}}\n",
    "\\newcommand{\\Kuui}{\\Kuu^{-1}}\n",
    "\\newcommand{\\Qaast}{\\mathbf{Q}_{\\bf \\ast \\ast}}\n",
    "\\newcommand{\\Qastf}{\\mathbf{Q}_{\\ast \\mappingFunction}}\n",
    "\\newcommand{\\Qfast}{\\mathbf{Q}_{\\mappingFunctionVector \\bf \\ast}}\n",
    "\\newcommand{\\Qff}{\\mathbf{Q}_{\\mappingFunctionVector \\mappingFunctionVector}}\n",
    "\\newcommand{\\aMatrix}{\\mathbf{A}}\n",
    "\\newcommand{\\aScalar}{a}\n",
    "\\newcommand{\\aVector}{\\mathbf{a}}\n",
    "\\newcommand{\\acceleration}{a}\n",
    "\\newcommand{\\bMatrix}{\\mathbf{B}}\n",
    "\\newcommand{\\bScalar}{b}\n",
    "\\newcommand{\\bVector}{\\mathbf{b}}\n",
    "\\newcommand{\\basisFunc}{\\phi}\n",
    "\\newcommand{\\basisFuncVector}{\\boldsymbol{ \\basisFunc}}\n",
    "\\newcommand{\\basisFunction}{\\phi}\n",
    "\\newcommand{\\basisLocation}{\\mu}\n",
    "\\newcommand{\\basisMatrix}{\\boldsymbol{ \\Phi}}\n",
    "\\newcommand{\\basisScalar}{\\basisFunction}\n",
    "\\newcommand{\\basisVector}{\\boldsymbol{ \\basisFunction}}\n",
    "\\newcommand{\\activationFunction}{\\phi}\n",
    "\\newcommand{\\activationMatrix}{\\boldsymbol{ \\Phi}}\n",
    "\\newcommand{\\activationScalar}{\\basisFunction}\n",
    "\\newcommand{\\activationVector}{\\boldsymbol{ \\basisFunction}}\n",
    "\\newcommand{\\bigO}{\\mathcal{O}}\n",
    "\\newcommand{\\binomProb}{\\pi}\n",
    "\\newcommand{\\cMatrix}{\\mathbf{C}}\n",
    "\\newcommand{\\cbasisMatrix}{\\hat{\\boldsymbol{ \\Phi}}}\n",
    "\\newcommand{\\cdataMatrix}{\\hat{\\dataMatrix}}\n",
    "\\newcommand{\\cdataScalar}{\\hat{\\dataScalar}}\n",
    "\\newcommand{\\cdataVector}{\\hat{\\dataVector}}\n",
    "\\newcommand{\\centeredKernelMatrix}{\\mathbf{ \\MakeUppercase{\\centeredKernelScalar}}}\n",
    "\\newcommand{\\centeredKernelScalar}{b}\n",
    "\\newcommand{\\centeredKernelVector}{\\centeredKernelScalar}\n",
    "\\newcommand{\\centeringMatrix}{\\mathbf{H}}\n",
    "\\newcommand{\\chiSquaredDist}[2]{\\chi_{#1}^{2}\\left(#2\\right)}\n",
    "\\newcommand{\\chiSquaredSamp}[1]{\\chi_{#1}^{2}}\n",
    "\\newcommand{\\conditionalCovariance}{\\boldsymbol{ \\Sigma}}\n",
    "\\newcommand{\\coregionalizationMatrix}{\\mathbf{B}}\n",
    "\\newcommand{\\coregionalizationScalar}{b}\n",
    "\\newcommand{\\coregionalizationVector}{\\mathbf{ \\coregionalizationScalar}}\n",
    "\\newcommand{\\covDist}[2]{\\text{cov}_{#2}\\left(#1\\right)}\n",
    "\\newcommand{\\covSamp}[1]{\\text{cov}\\left(#1\\right)}\n",
    "\\newcommand{\\covarianceScalar}{c}\n",
    "\\newcommand{\\covarianceVector}{\\mathbf{ \\covarianceScalar}}\n",
    "\\newcommand{\\covarianceMatrix}{\\mathbf{C}}\n",
    "\\newcommand{\\covarianceMatrixTwo}{\\boldsymbol{ \\Sigma}}\n",
    "\\newcommand{\\croupierScalar}{s}\n",
    "\\newcommand{\\croupierVector}{\\mathbf{ \\croupierScalar}}\n",
    "\\newcommand{\\croupierMatrix}{\\mathbf{ \\MakeUppercase{\\croupierScalar}}}\n",
    "\\newcommand{\\dataDim}{p}\n",
    "\\newcommand{\\dataIndex}{i}\n",
    "\\newcommand{\\dataIndexTwo}{j}\n",
    "\\newcommand{\\dataMatrix}{\\mathbf{Y}}\n",
    "\\newcommand{\\dataScalar}{y}\n",
    "\\newcommand{\\dataSet}{\\mathcal{D}}\n",
    "\\newcommand{\\dataStd}{\\sigma}\n",
    "\\newcommand{\\dataVector}{\\mathbf{ \\dataScalar}}\n",
    "\\newcommand{\\decayRate}{d}\n",
    "\\newcommand{\\degreeMatrix}{\\mathbf{ \\MakeUppercase{\\degreeScalar}}}\n",
    "\\newcommand{\\degreeScalar}{d}\n",
    "\\newcommand{\\degreeVector}{\\mathbf{ \\degreeScalar}}\n",
    "% Already defined by latex\n",
    "%\\newcommand{\\det}[1]{\\left|#1\\right|}\n",
    "\\newcommand{\\diag}[1]{\\text{diag}\\left(#1\\right)}\n",
    "\\newcommand{\\diagonalMatrix}{\\mathbf{D}}\n",
    "\\newcommand{\\diff}[2]{\\frac{\\text{d}#1}{\\text{d}#2}}\n",
    "\\newcommand{\\diffTwo}[2]{\\frac{\\text{d}^2#1}{\\text{d}#2^2}}\n",
    "\\newcommand{\\displacement}{x}\n",
    "\\newcommand{\\displacementVector}{\\textbf{\\displacement}}\n",
    "\\newcommand{\\distanceMatrix}{\\mathbf{ \\MakeUppercase{\\distanceScalar}}}\n",
    "\\newcommand{\\distanceScalar}{d}\n",
    "\\newcommand{\\distanceVector}{\\mathbf{ \\distanceScalar}}\n",
    "\\newcommand{\\eigenvaltwo}{\\ell}\n",
    "\\newcommand{\\eigenvaltwoMatrix}{\\mathbf{L}}\n",
    "\\newcommand{\\eigenvaltwoVector}{\\mathbf{l}}\n",
    "\\newcommand{\\eigenvalue}{\\lambda}\n",
    "\\newcommand{\\eigenvalueMatrix}{\\boldsymbol{ \\Lambda}}\n",
    "\\newcommand{\\eigenvalueVector}{\\boldsymbol{ \\lambda}}\n",
    "\\newcommand{\\eigenvector}{\\mathbf{ \\eigenvectorScalar}}\n",
    "\\newcommand{\\eigenvectorMatrix}{\\mathbf{U}}\n",
    "\\newcommand{\\eigenvectorScalar}{u}\n",
    "\\newcommand{\\eigenvectwo}{\\mathbf{v}}\n",
    "\\newcommand{\\eigenvectwoMatrix}{\\mathbf{V}}\n",
    "\\newcommand{\\eigenvectwoScalar}{v}\n",
    "\\newcommand{\\entropy}[1]{\\mathcal{H}\\left(#1\\right)}\n",
    "\\newcommand{\\errorFunction}{E}\n",
    "\\newcommand{\\expDist}[2]{\\left<#1\\right>_{#2}}\n",
    "\\newcommand{\\expSamp}[1]{\\left<#1\\right>}\n",
    "\\newcommand{\\expectation}[1]{\\left\\langle #1 \\right\\rangle }\n",
    "\\newcommand{\\expectationDist}[2]{\\left\\langle #1 \\right\\rangle _{#2}}\n",
    "\\newcommand{\\expectedDistanceMatrix}{\\mathcal{D}}\n",
    "\\newcommand{\\eye}{\\mathbf{I}}\n",
    "\\newcommand{\\fantasyDim}{r}\n",
    "\\newcommand{\\fantasyMatrix}{\\mathbf{ \\MakeUppercase{\\fantasyScalar}}}\n",
    "\\newcommand{\\fantasyScalar}{z}\n",
    "\\newcommand{\\fantasyVector}{\\mathbf{ \\fantasyScalar}}\n",
    "\\newcommand{\\featureStd}{\\varsigma}\n",
    "\\newcommand{\\gammaCdf}[3]{\\mathcal{GAMMA CDF}\\left(#1|#2,#3\\right)}\n",
    "\\newcommand{\\gammaDist}[3]{\\mathcal{G}\\left(#1|#2,#3\\right)}\n",
    "\\newcommand{\\gammaSamp}[2]{\\mathcal{G}\\left(#1,#2\\right)}\n",
    "\\newcommand{\\gaussianDist}[3]{\\mathcal{N}\\left(#1|#2,#3\\right)}\n",
    "\\newcommand{\\gaussianSamp}[2]{\\mathcal{N}\\left(#1,#2\\right)}\n",
    "\\newcommand{\\given}{|}\n",
    "\\newcommand{\\half}{\\frac{1}{2}}\n",
    "\\newcommand{\\heaviside}{H}\n",
    "\\newcommand{\\hiddenMatrix}{\\mathbf{ \\MakeUppercase{\\hiddenScalar}}}\n",
    "\\newcommand{\\hiddenScalar}{h}\n",
    "\\newcommand{\\hiddenVector}{\\mathbf{ \\hiddenScalar}}\n",
    "\\newcommand{\\identityMatrix}{\\eye}\n",
    "\\newcommand{\\inducingInputScalar}{z}\n",
    "\\newcommand{\\inducingInputVector}{\\mathbf{ \\inducingInputScalar}}\n",
    "\\newcommand{\\inducingInputMatrix}{\\mathbf{Z}}\n",
    "\\newcommand{\\inducingScalar}{u}\n",
    "\\newcommand{\\inducingVector}{\\mathbf{ \\inducingScalar}}\n",
    "\\newcommand{\\inducingMatrix}{\\mathbf{U}}\n",
    "\\newcommand{\\inlineDiff}[2]{\\text{d}#1/\\text{d}#2}\n",
    "\\newcommand{\\inputDim}{q}\n",
    "\\newcommand{\\inputMatrix}{\\mathbf{X}}\n",
    "\\newcommand{\\inputScalar}{x}\n",
    "\\newcommand{\\inputSpace}{\\mathcal{X}}\n",
    "\\newcommand{\\inputVals}{\\inputVector}\n",
    "\\newcommand{\\inputVector}{\\mathbf{ \\inputScalar}}\n",
    "\\newcommand{\\iterNum}{k}\n",
    "\\newcommand{\\kernel}{\\kernelScalar}\n",
    "\\newcommand{\\kernelMatrix}{\\mathbf{K}}\n",
    "\\newcommand{\\kernelScalar}{k}\n",
    "\\newcommand{\\kernelVector}{\\mathbf{ \\kernelScalar}}\n",
    "\\newcommand{\\kff}{\\kernelScalar_{\\mappingFunction \\mappingFunction}}\n",
    "\\newcommand{\\kfu}{\\kernelVector_{\\mappingFunction \\inducingScalar}}\n",
    "\\newcommand{\\kuf}{\\kernelVector_{\\inducingScalar \\mappingFunction}}\n",
    "\\newcommand{\\kuu}{\\kernelVector_{\\inducingScalar \\inducingScalar}}\n",
    "\\newcommand{\\lagrangeMultiplier}{\\lambda}\n",
    "\\newcommand{\\lagrangeMultiplierMatrix}{\\boldsymbol{ \\Lambda}}\n",
    "\\newcommand{\\lagrangian}{L}\n",
    "\\newcommand{\\laplacianFactor}{\\mathbf{ \\MakeUppercase{\\laplacianFactorScalar}}}\n",
    "\\newcommand{\\laplacianFactorScalar}{m}\n",
    "\\newcommand{\\laplacianFactorVector}{\\mathbf{ \\laplacianFactorScalar}}\n",
    "\\newcommand{\\laplacianMatrix}{\\mathbf{L}}\n",
    "\\newcommand{\\laplacianScalar}{\\ell}\n",
    "\\newcommand{\\laplacianVector}{\\mathbf{ \\ell}}\n",
    "\\newcommand{\\latentDim}{q}\n",
    "\\newcommand{\\latentDistanceMatrix}{\\boldsymbol{ \\Delta}}\n",
    "\\newcommand{\\latentDistanceScalar}{\\delta}\n",
    "\\newcommand{\\latentDistanceVector}{\\boldsymbol{ \\delta}}\n",
    "\\newcommand{\\latentForce}{f}\n",
    "\\newcommand{\\latentFunction}{u}\n",
    "\\newcommand{\\latentFunctionVector}{\\mathbf{ \\latentFunction}}\n",
    "\\newcommand{\\latentFunctionMatrix}{\\mathbf{ \\MakeUppercase{\\latentFunction}}}\n",
    "\\newcommand{\\latentIndex}{j}\n",
    "\\newcommand{\\latentScalar}{z}\n",
    "\\newcommand{\\latentVector}{\\mathbf{ \\latentScalar}}\n",
    "\\newcommand{\\latentMatrix}{\\mathbf{Z}}\n",
    "\\newcommand{\\learnRate}{\\eta}\n",
    "\\newcommand{\\lengthScale}{\\ell}\n",
    "\\newcommand{\\rbfWidth}{\\ell}\n",
    "\\newcommand{\\likelihoodBound}{\\mathcal{L}}\n",
    "\\newcommand{\\likelihoodFunction}{L}\n",
    "\\newcommand{\\locationScalar}{\\mu}\n",
    "\\newcommand{\\locationVector}{\\boldsymbol{ \\locationScalar}}\n",
    "\\newcommand{\\locationMatrix}{\\mathbf{M}}\n",
    "\\newcommand{\\variance}[1]{\\text{var}\\left( #1 \\right)}\n",
    "\\newcommand{\\mappingFunction}{f}\n",
    "\\newcommand{\\mappingFunctionMatrix}{\\mathbf{F}}\n",
    "\\newcommand{\\mappingFunctionTwo}{g}\n",
    "\\newcommand{\\mappingFunctionTwoMatrix}{\\mathbf{G}}\n",
    "\\newcommand{\\mappingFunctionTwoVector}{\\mathbf{ \\mappingFunctionTwo}}\n",
    "\\newcommand{\\mappingFunctionVector}{\\mathbf{ \\mappingFunction}}\n",
    "\\newcommand{\\scaleScalar}{s}\n",
    "\\newcommand{\\mappingScalar}{w}\n",
    "\\newcommand{\\mappingVector}{\\mathbf{ \\mappingScalar}}\n",
    "\\newcommand{\\mappingMatrix}{\\mathbf{W}}\n",
    "\\newcommand{\\mappingScalarTwo}{v}\n",
    "\\newcommand{\\mappingVectorTwo}{\\mathbf{ \\mappingScalarTwo}}\n",
    "\\newcommand{\\mappingMatrixTwo}{\\mathbf{V}}\n",
    "\\newcommand{\\maxIters}{K}\n",
    "\\newcommand{\\meanMatrix}{\\mathbf{M}}\n",
    "\\newcommand{\\meanScalar}{\\mu}\n",
    "\\newcommand{\\meanTwoMatrix}{\\mathbf{M}}\n",
    "\\newcommand{\\meanTwoScalar}{m}\n",
    "\\newcommand{\\meanTwoVector}{\\mathbf{ \\meanTwoScalar}}\n",
    "\\newcommand{\\meanVector}{\\boldsymbol{ \\meanScalar}}\n",
    "\\newcommand{\\mrnaConcentration}{m}\n",
    "\\newcommand{\\naturalFrequency}{\\omega}\n",
    "\\newcommand{\\neighborhood}[1]{\\mathcal{N}\\left( #1 \\right)}\n",
    "\\newcommand{\\neilurl}{http://inverseprobability.com/}\n",
    "\\newcommand{\\noiseMatrix}{\\boldsymbol{ E}}\n",
    "\\newcommand{\\noiseScalar}{\\epsilon}\n",
    "\\newcommand{\\noiseVector}{\\boldsymbol{ \\epsilon}}\n",
    "\\newcommand{\\norm}[1]{\\left\\Vert #1 \\right\\Vert}\n",
    "\\newcommand{\\normalizedLaplacianMatrix}{\\hat{\\mathbf{L}}}\n",
    "\\newcommand{\\normalizedLaplacianScalar}{\\hat{\\ell}}\n",
    "\\newcommand{\\normalizedLaplacianVector}{\\hat{\\mathbf{ \\ell}}}\n",
    "\\newcommand{\\numActive}{m}\n",
    "\\newcommand{\\numBasisFunc}{m}\n",
    "\\newcommand{\\numComponents}{m}\n",
    "\\newcommand{\\numComps}{K}\n",
    "\\newcommand{\\numData}{n}\n",
    "\\newcommand{\\numFeatures}{K}\n",
    "\\newcommand{\\numHidden}{h}\n",
    "\\newcommand{\\numInducing}{m}\n",
    "\\newcommand{\\numLayers}{\\ell}\n",
    "\\newcommand{\\numNeighbors}{K}\n",
    "\\newcommand{\\numSequences}{s}\n",
    "\\newcommand{\\numSuccess}{s}\n",
    "\\newcommand{\\numTasks}{m}\n",
    "\\newcommand{\\numTime}{T}\n",
    "\\newcommand{\\numTrials}{S}\n",
    "\\newcommand{\\outputIndex}{j}\n",
    "\\newcommand{\\paramVector}{\\boldsymbol{ \\theta}}\n",
    "\\newcommand{\\parameterMatrix}{\\boldsymbol{ \\Theta}}\n",
    "\\newcommand{\\parameterScalar}{\\theta}\n",
    "\\newcommand{\\parameterVector}{\\boldsymbol{ \\parameterScalar}}\n",
    "\\newcommand{\\partDiff}[2]{\\frac{\\partial#1}{\\partial#2}}\n",
    "\\newcommand{\\precisionScalar}{j}\n",
    "\\newcommand{\\precisionVector}{\\mathbf{ \\precisionScalar}}\n",
    "\\newcommand{\\precisionMatrix}{\\mathbf{J}}\n",
    "\\newcommand{\\pseudotargetScalar}{\\widetilde{y}}\n",
    "\\newcommand{\\pseudotargetVector}{\\mathbf{ \\pseudotargetScalar}}\n",
    "\\newcommand{\\pseudotargetMatrix}{\\mathbf{ \\widetilde{Y}}}\n",
    "\\newcommand{\\rank}[1]{\\text{rank}\\left(#1\\right)}\n",
    "\\newcommand{\\rayleighDist}[2]{\\mathcal{R}\\left(#1|#2\\right)}\n",
    "\\newcommand{\\rayleighSamp}[1]{\\mathcal{R}\\left(#1\\right)}\n",
    "\\newcommand{\\responsibility}{r}\n",
    "\\newcommand{\\rotationScalar}{r}\n",
    "\\newcommand{\\rotationVector}{\\mathbf{ \\rotationScalar}}\n",
    "\\newcommand{\\rotationMatrix}{\\mathbf{R}}\n",
    "\\newcommand{\\sampleCovScalar}{s}\n",
    "\\newcommand{\\sampleCovVector}{\\mathbf{ \\sampleCovScalar}}\n",
    "\\newcommand{\\sampleCovMatrix}{\\mathbf{s}}\n",
    "\\newcommand{\\scalarProduct}[2]{\\left\\langle{#1},{#2}\\right\\rangle}\n",
    "\\newcommand{\\sign}[1]{\\text{sign}\\left(#1\\right)}\n",
    "\\newcommand{\\sigmoid}[1]{\\sigma\\left(#1\\right)}\n",
    "\\newcommand{\\singularvalue}{\\ell}\n",
    "\\newcommand{\\singularvalueMatrix}{\\mathbf{L}}\n",
    "\\newcommand{\\singularvalueVector}{\\mathbf{l}}\n",
    "\\newcommand{\\sorth}{\\mathbf{u}}\n",
    "\\newcommand{\\spar}{\\lambda}\n",
    "\\newcommand{\\trace}[1]{\\text{tr}\\left(#1\\right)}\n",
    "\\newcommand{\\BasalRate}{B}\n",
    "\\newcommand{\\DampingCoefficient}{C}\n",
    "\\newcommand{\\DecayRate}{D}\n",
    "\\newcommand{\\Displacement}{X}\n",
    "\\newcommand{\\LatentForce}{F}\n",
    "\\newcommand{\\Mass}{M}\n",
    "\\newcommand{\\Sensitivity}{S}\n",
    "\\newcommand{\\basalRate}{b}\n",
    "\\newcommand{\\dampingCoefficient}{c}\n",
    "\\newcommand{\\mass}{m}\n",
    "\\newcommand{\\sensitivity}{s}\n",
    "\\newcommand{\\springScalar}{\\kappa}\n",
    "\\newcommand{\\springVector}{\\boldsymbol{ \\kappa}}\n",
    "\\newcommand{\\springMatrix}{\\boldsymbol{ \\mathcal{K}}}\n",
    "\\newcommand{\\tfConcentration}{p}\n",
    "\\newcommand{\\tfDecayRate}{\\delta}\n",
    "\\newcommand{\\tfMrnaConcentration}{f}\n",
    "\\newcommand{\\tfVector}{\\mathbf{ \\tfConcentration}}\n",
    "\\newcommand{\\velocity}{v}\n",
    "\\newcommand{\\sufficientStatsScalar}{g}\n",
    "\\newcommand{\\sufficientStatsVector}{\\mathbf{ \\sufficientStatsScalar}}\n",
    "\\newcommand{\\sufficientStatsMatrix}{\\mathbf{G}}\n",
    "\\newcommand{\\switchScalar}{s}\n",
    "\\newcommand{\\switchVector}{\\mathbf{ \\switchScalar}}\n",
    "\\newcommand{\\switchMatrix}{\\mathbf{S}}\n",
    "\\newcommand{\\tr}[1]{\\text{tr}\\left(#1\\right)}\n",
    "\\newcommand{\\loneNorm}[1]{\\left\\Vert #1 \\right\\Vert_1}\n",
    "\\newcommand{\\ltwoNorm}[1]{\\left\\Vert #1 \\right\\Vert_2}\n",
    "\\newcommand{\\onenorm}[1]{\\left\\vert#1\\right\\vert_1}\n",
    "\\newcommand{\\twonorm}[1]{\\left\\Vert #1 \\right\\Vert}\n",
    "\\newcommand{\\vScalar}{v}\n",
    "\\newcommand{\\vVector}{\\mathbf{v}}\n",
    "\\newcommand{\\vMatrix}{\\mathbf{V}}\n",
    "\\newcommand{\\varianceDist}[2]{\\text{var}_{#2}\\left( #1 \\right)}\n",
    "% Already defined by latex\n",
    "%\\newcommand{\\vec}{#1:}\n",
    "\\newcommand{\\vecb}[1]{\\left(#1\\right):}\n",
    "\\newcommand{\\weightScalar}{w}\n",
    "\\newcommand{\\weightVector}{\\mathbf{ \\weightScalar}}\n",
    "\\newcommand{\\weightMatrix}{\\mathbf{W}}\n",
    "\\newcommand{\\weightedAdjacencyMatrix}{\\mathbf{A}}\n",
    "\\newcommand{\\weightedAdjacencyScalar}{a}\n",
    "\\newcommand{\\weightedAdjacencyVector}{\\mathbf{ \\weightedAdjacencyScalar}}\n",
    "\\newcommand{\\onesVector}{\\mathbf{1}}\n",
    "\\newcommand{\\zerosVector}{\\mathbf{0}}\n",
    "$$\n",
    "\n",
    "## What is Machine Learning?\n",
    "\n",
    "What is machine learning? At its most basic level machine learning is a\n",
    "combination of\n",
    "\n",
    "$$ \\text{data} + \\text{model} \\xrightarrow{\\text{compute}} \\text{prediction}$$\n",
    "\n",
    "where *data* is our observations. They can be actively or passively\n",
    "acquired (meta-data). The *model* contains our assumptions, based on\n",
    "previous experience. THat experience can be other data, it can come from\n",
    "transfer learning, or it can merely be our beliefs about the\n",
    "regularities of the universe. In humans our models include our inductive\n",
    "biases. The *prediction* is an action to be taken or a categorization or\n",
    "a quality score. The reason that machine learning has become a mainstay\n",
    "of artificial intelligence is the importance of predictions in\n",
    "artificial intelligence. The data and the model are combined through\n",
    "computation.\n",
    "\n",
    "In practice we normally perform machine learning using two functions. To\n",
    "combine data with a model we typically make use of:\n",
    "\n",
    "**a prediction function** a function which is used to make the\n",
    "predictions. It includes our beliefs about the regularities of the\n",
    "universe, our assumptions about how the world works, e.g. smoothness,\n",
    "spatial similarities, temporal similarities.\n",
    "\n",
    "**an objective function** a function which defines the cost of\n",
    "misprediction. Typically it includes knowledge about the world's\n",
    "generating processes (probabilistic objectives) or the costs we pay for\n",
    "mispredictions (empiricial risk minimization).\n",
    "\n",
    "The combination of data and model through the prediction function and\n",
    "the objectie function leads to a *learning algorithm*. The class of\n",
    "prediction functions and objective functions we can make use of is\n",
    "restricted by the algorithms they lead to. If the prediction function or\n",
    "the objective function are too complex, then it can be difficult to find\n",
    "an appropriate learning algorithm. Much of the acdemic field of machine\n",
    "learning is the quest for new learning algorithms that allow us to bring\n",
    "different types of models and data together.\n",
    "\n",
    "A useful reference for state of the art in machine learning is the UK\n",
    "Royal Society Report, [Machine Learning: Power and Promise of Computers\n",
    "that Learn by\n",
    "Example](https://royalsociety.org/~/media/policy/projects/machine-learning/publications/machine-learning-report.pdf).\n",
    "\n",
    "You can also check my blog post on [\"What is Machine\n",
    "Learning?\"](http://inverseprobability.com/2017/07/17/what-is-machine-learning)"
   ]
  },
  {
   "cell_type": "code",
   "execution_count": 85,
   "metadata": {
    "collapsed": true
   },
   "outputs": [],
   "source": [
    "import numpy as np\n",
    "import matplotlib.pyplot as plt\n",
    "import pods\n",
    "import teaching_plots as plot\n",
    "import mlai"
   ]
  },
  {
   "cell_type": "markdown",
   "metadata": {},
   "source": [
    "### Olympic Marathon Data\n",
    "\n",
    "The first thing we will do is load a standard data set for regression\n",
    "modelling. The data consists of the pace of Olympic Gold Medal Marathon\n",
    "winners for the Olympics from 1896 to present. First we load in the data\n",
    "and plot."
   ]
  },
  {
   "cell_type": "code",
   "execution_count": 86,
   "metadata": {
    "collapsed": false
   },
   "outputs": [
    {
     "data": {
      "image/png": "[encoded data removed]",
      "text/plain": [
       "<matplotlib.figure.Figure at 0x7f163c309198>"
      ]
     },
     "metadata": {},
     "output_type": "display_data"
    }
   ],
   "source": [
    "data = pods.datasets.olympic_marathon_men()\n",
    "x = data['X']\n",
    "y = data['Y']\n",
    "\n",
    "offset = y.mean()\n",
    "scale = np.sqrt(y.var())\n",
    "\n",
    "xlim = (1875,2030)\n",
    "ylim = (2.5, 6.5)\n",
    "yhat = (y-offset)/scale\n",
    "\n",
    "fig, ax = plt.subplots(figsize=plot.big_wide_figsize)\n",
    "_ = ax.plot(x, y, 'r.',markersize=10)\n",
    "ax.set_xlabel('year', fontsize=20)\n",
    "ax.set_ylabel('pace min/km', fontsize=20)\n",
    "ax.set_xlim(xlim)\n",
    "ax.set_ylim(ylim)\n",
    "\n",
    "mlai.write_figure(figure=fig, filename='olympic-marathon.svg', transparent=True, frameon=True)"
   ]
  },
  {
   "cell_type": "markdown",
   "metadata": {},
   "source": [
    "### Olympic Marathon Data\n",
    "\n",
    "<table>\n",
    "<tr>\n",
    "<td width=\"70%\">\n",
    "-   Gold medal times for Olympic Marathon since 1896.\n",
    "\n",
    "-   Marathons before 1924 didn’t have a standardised distance.\n",
    "\n",
    "-   Present results using pace per km.\n",
    "\n",
    "-   In 1904 Marathon was badly organised leading to very slow times.\n",
    "\n",
    "</td>\n",
    "<td width=\"30%\">\n",
    "![image](Stephen_Kiprotich.jpg) <small>Image from\n",
    "Wikimedia Commons <http://bit.ly/16kMKHQ></small>\n",
    "</td>\n",
    "</tr>\n",
    "</table>\n",
    "<img src=\"olympic-marathon.svg\" align=\"\">\n",
    "\n",
    "Things to notice about the data include the outlier in 1904, in this\n",
    "year, the olympics was in St Louis, USA. Organizational problems and\n",
    "challenges with dust kicked up by the cars following the race meant that\n",
    "participants got lost, and only very few participants completed.\n",
    "\n",
    "More recent years see more consistently quick marathons.\n",
    "\n",
    "### Regression: Linear Releationship\n",
    "\n",
    "For many their first encounter with what might be termed a machine\n",
    "learning method is fitting a straight line. A straight line is\n",
    "characterized by two parameters, the scale, $m$, and the offset $c$.\n",
    "\n",
    "$$\\dataScalar_i = m \\inputScalar_i + c$$\n",
    "\n",
    "For the olympic marathon example $\\dataScalar_i$ is the winning pace and\n",
    "it is given as a function of the year which is represented by\n",
    "$\\inputScalar_i$. There are two further parameters of the prediction\n",
    "function. For the olympics example we can interpret these parameters,\n",
    "the scale $m$ is the rate of improvement of the olympic marathon pace on\n",
    "a yearly basis. And $c$ is the winning pace as estimated at year 0.\n",
    "\n",
    "## Overdetermined System\n",
    "\n",
    "The challenge with a linear model is that it has two unknowns, $m$, and\n",
    "$c$. Observing data allows us to write down a system of simultaneous\n",
    "linear equations. So, for example if we observe two data points, the\n",
    "first with the input value, $\\inputScalar_1 = 1$ and the output value,\n",
    "$\\dataScalar_1 =3$ and a second data point, $\\inputScalar = 3$,\n",
    "$\\dataScalar=1$, then we can write two simultaneous linear equations of\n",
    "the form.\n",
    "\n",
    "point 1: $\\inputScalar = 1$, $\\dataScalar=3$ $$3 = m + c$$ point 2:\n",
    "$\\inputScalar = 3$, $\\dataScalar=1$ $$1 = 3m + c$$\n",
    "\n",
    "The solution to these two simultaneous equations can be represented\n",
    "graphically as\n",
    "\n",
    "<img src=\"over_determined_system003.svg\" align=\"\">\n",
    "<center>\n",
    "*The solution of two linear equations represented as the fit of a\n",
    "straight line through two data *\n",
    "</center>\n",
    "The challenge comes when a third data point is observed and it doesn't\n",
    "naturally fit on the straight line.\n",
    "\n",
    "point 3: $\\inputScalar = 2$, $\\dataScalar=2.5$ $$2.5 = 2m + c$$\n",
    "\n",
    "<img src=\"over_determined_system004.svg\" align=\"\">\n",
    "<center>\n",
    "*A third observation of data is inconsistent with the solution dictated\n",
    "by the first two observations *\n",
    "</center>\n",
    "Now there are three candidate lines, each consistent with our data.\n",
    "\n",
    "<img src=\"over_determined_system007.svg\" align=\"\">\n",
    "<center>\n",
    "*Three solutions to the problem, each consistent with two points of the\n",
    "three observations *\n",
    "</center>\n",
    "This is known as an *overdetermined* system because there are more data\n",
    "than we need to determine our parameters. The problem arises because the\n",
    "model is a simplification of the real world, and the data we observe is\n",
    "therefore inconsistent with our model."
   ]
  },
  {
   "cell_type": "code",
   "execution_count": 87,
   "metadata": {
    "collapsed": true
   },
   "outputs": [],
   "source": [
    "import teaching_plots as plot"
   ]
  },
  {
   "cell_type": "code",
   "execution_count": 88,
   "metadata": {
    "collapsed": false
   },
   "outputs": [
    {
     "data": {
      "image/png": "[encoded data removed]",
      "text/plain": [
       "<matplotlib.figure.Figure at 0x7f163c31b828>"
      ]
     },
     "metadata": {},
     "output_type": "display_data"
    }
   ],
   "source": [
    "plot.over_determined_system(diagrams='')"
   ]
  },
  {
   "cell_type": "code",
   "execution_count": 89,
   "metadata": {
    "collapsed": true
   },
   "outputs": [],
   "source": [
    "from ipywidgets import IntSlider\n",
    "import pods"
   ]
  },
  {
   "cell_type": "code",
   "execution_count": 91,
   "metadata": {
    "collapsed": true
   },
   "outputs": [],
   "source": [
    "#pods.notebook.display_plots('over_determined_system{samp:0>3}.svg', directory='', samp=IntSlider(1,1,8,1))"
   ]
  },
  {
   "cell_type": "markdown",
   "metadata": {},
   "source": [
    "The solution was proposed by Pierre-Simon Laplace. His idea was to\n",
    "accept that the model was an incomplete representation of the real\n",
    "world, and the manner in which it was incomplete is *unknown*. His idea\n",
    "was that such unknowns could be dealt with through probability.\n",
    "\n",
    "<img class=\"\" src=\"Pierre-Simon_Laplace.png\" width=\"30%\" align=\"\" style=\"background:none; border:none; box-shadow:none;\">\n",
    "\n",
    "Famously, Laplace considered the idea of a deterministic Universe, one\n",
    "in which the model is *known*, or as the below translation refers to it,\n",
    "\"an intelligence which could comprehend all the forces by which nature\n",
    "is animated\". He speculates on an \"intelligence\" that can submit this\n",
    "vast data to analysis and propsoses that such an entity would be able to\n",
    "predict the future.\n",
    "\n",
    "> Given for one instant an intelligence which could comprehend all the\n",
    "> forces by which nature is animated and the respective situation of the\n",
    "> beings who compose it---an intelligence sufficiently vast to submit\n",
    "> these data to analysis---it would embrace in the same formulate the\n",
    "> movements of the greatest bodies of the universe and those of the\n",
    "> lightest atom; for it, nothing would be uncertain and the future, as\n",
    "> the past, would be present in its eyes.\n",
    "\n",
    "This notion is known as *Laplace's demon* or *Laplace's superman*.\n",
    "\n",
    "Unfortunately, most analyses of his ideas stop at that point, whereas\n",
    "his real point is that such a notion is unreachable. Not so much\n",
    "*superman* as *strawman*. Just three pages later in the \"Philosophical\n",
    "Essay on Probabilities\" [@Laplace:essai14], Laplace goes on to observe:\n",
    "\n",
    "> The curve described by a simple molecule of air or vapor is regulated\n",
    "> in a manner just as certain as the planetary orbits; the only\n",
    "> difference between them is that which comes from our ignorance.\n",
    ">\n",
    "> Probability is relative, in part to this ignorance, in part to our\n",
    "> knowledge.\n",
    "\n",
    "In other words, we can never utilize the idealistic deterministc\n",
    "Universe due to our ignorance about the world, Laplace's suggestion, and\n",
    "focus in this essay is that we turn to probability to deal with this\n",
    "uncertainty.\n",
    "\n",
    "Laplace's concept was that the reason that the data doesn't match up to\n",
    "the model is because of unconsidered factors, and that these might be\n",
    "well represented through probability densities. He tackles the challenge\n",
    "of the unknown factors by adding a variable, $\\noiseScalar$, that\n",
    "represents the unknown. In modern parlance we would call this a *latent*\n",
    "variable. But in the context Laplace uses it, the variable is so common\n",
    "that it has other names such as a \"slack\" variable or the *noise* in the\n",
    "system.\n",
    "\n",
    "point 1: $\\inputScalar = 1$, $\\dataScalar=3$ $$\n",
    "3 = m + c + \\noiseScalar_1\n",
    "$$ point 2: $\\inputScalar = 3$, $\\dataScalar=1$ $$\n",
    "1 = 3m + c + \\noiseScalar_2\n",
    "$$ point 3: $\\inputScalar = 2$, $\\dataScalar=2.5$ $$\n",
    "2.5 = 2m + c + \\noiseScalar_3\n",
    "$$\n",
    "\n",
    "Laplace's trick has converted the *overdetermined* system into an\n",
    "*underdetermined* system. He has now added three variables,\n",
    "$\\{\\noiseScalar_i\\}_{i=1}^3$, which represent the unknown corruptions of\n",
    "the real world. Laplace's idea is that we should represent that unknown\n",
    "corruption with a *probability distribution*.\n",
    "\n",
    "### A Probabilistic Process\n",
    "\n",
    "However, it was left to an admirer of Gauss to develop a practical\n",
    "probability density for that purpose. It was Carl Friederich Gauss who\n",
    "suggested that the *Gaussian* density (which at the time was unnamed!)\n",
    "should be used to represent this error.\n",
    "\n",
    "The result is a *noisy* function, a function which has a deterministic\n",
    "part, and a stochastic part. This type of function is sometimes known as\n",
    "a probabilistic or stochastic process, to distinguish it from a\n",
    "deterministic process.\n",
    "\n",
    "### The Gaussian Density\n",
    "\n",
    "The Gaussian density is perhaps the most commonly used probability\n",
    "density. It is defined by a *mean*, $\\meanScalar$, and a *variance*,\n",
    "$\\dataStd^2$. The variance is taken to be the square of the *standard\n",
    "deviation*, $\\dataStd$.\n",
    "\n",
    "$$\\begin{align}\n",
    "  p(\\dataScalar| \\meanScalar, \\dataStd^2) & = \\frac{1}{\\sqrt{2\\pi\\dataStd^2}}\\exp\\left(-\\frac{(\\dataScalar - \\meanScalar)^2}{2\\dataStd^2}\\right)\\\\& \\buildrel\\triangle\\over = \\gaussianDist{\\dataScalar}{\\meanScalar}{\\dataStd^2}\n",
    "  \\end{align}$$"
   ]
  },
  {
   "cell_type": "code",
   "execution_count": 12,
   "metadata": {
    "collapsed": true
   },
   "outputs": [],
   "source": [
    "import teaching_plots as plot"
   ]
  },
  {
   "cell_type": "code",
   "execution_count": 13,
   "metadata": {
    "collapsed": true
   },
   "outputs": [],
   "source": [
    "plot.gaussian_of_height(diagrams='')"
   ]
  },
  {
   "cell_type": "markdown",
   "metadata": {},
   "source": [
    "<img src=\"gaussian_of_height.svg\" align=\"\">\n",
    "\n",
    "<center>\n",
    "*The Gaussian PDF with ${\\meanScalar}=1.7$ and variance\n",
    "${\\dataStd}^2=0.0225$. Mean shown as cyan line. It could represent the\n",
    "heights of a population of students. *\n",
    "</center>\n",
    "### Two Important Gaussian Properties\n",
    "\n",
    "The Gaussian density has many important properties, but for the moment\n",
    "we'll review two of them.\n",
    "\n",
    "### Sum of Gaussians\n",
    "\n",
    "If we assume that a variable, $\\dataScalar_i$, is sampled from a\n",
    "Gaussian density,\n",
    "\n",
    "$$\\dataScalar_i \\sim \\gaussianSamp{\\meanScalar_i}{\\sigma_i^2}$$\n",
    "\n",
    "Then we can show that the sum of a set of variables, each drawn\n",
    "independently from such a density is also distributed as Gaussian. The\n",
    "mean of the resulting density is the sum of the means, and the variance\n",
    "is the sum of the variances,\n",
    "\n",
    "$$\\sum_{i=1}^{\\numData} \\dataScalar_i \\sim \\gaussianSamp{\\sum_{i=1}^\\numData \\meanScalar_i}{\\sum_{i=1}^\\numData \\sigma_i^2}$$\n",
    "\n",
    "Since we are very familiar with the Gaussian density and its properties,\n",
    "it is not immediately apparent how unusual this is. Most random\n",
    "variables, when you add them together, change the family of density they\n",
    "are drawn from. For example, the Gaussian is exceptional in this regard.\n",
    "Indeed, other random variables, if they are independently drawn and\n",
    "summed together tend to a Gaussian density. That is the [*central limit\n",
    "theorem*](https://en.wikipedia.org/wiki/Central_limit_theorem) which is\n",
    "a major justification for the use of a Gaussian density.\n",
    "\n",
    "### Scaling a Gaussian\n",
    "\n",
    "Less unusual is the *scaling* property of a Gaussian density. If a\n",
    "variable, $\\dataScalar$, is sampled from a Gaussian density,\n",
    "\n",
    "$$\\dataScalar \\sim \\gaussianSamp{\\meanScalar}{\\sigma^2}$$ and we choose\n",
    "to scale that variable by a *deterministic* value, $\\mappingScalar$,\n",
    "then the *scaled variable* is distributed as\n",
    "\n",
    "$$\\mappingScalar \\dataScalar \\sim \\gaussianSamp{\\mappingScalar\\meanScalar}{\\mappingScalar^2 \\sigma^2}.$$\n",
    "Unlike the summing properties, where adding two or more random variables\n",
    "independently sampled from a family of densitites typically brings the\n",
    "summed variable *outside* that family, scaling many densities leaves the\n",
    "distribution of that variable in the same *family* of densities. Indeed,\n",
    "many densities include a *scale* parameter (e.g. the [Gamma\n",
    "density](https://en.wikipedia.org/wiki/Gamma_distribution)) which is\n",
    "purely for this purpose. In the Gaussian the standard deviation,\n",
    "$\\dataStd$, is the scale parameter. To see why this makes sense, let's\n",
    "consider, $$z \\sim \\gaussianSamp{0}{1},$$ then if we scale by $\\dataStd$\n",
    "so we have, $\\dataScalar=\\dataStd z$, we can write,\n",
    "$$\\dataScalar =\\dataStd z \\sim \\gaussianSamp{0}{\\dataStd^2}$$\n",
    "\n",
    "## Laplace's Idea\n",
    "\n",
    "### A Probabilistic Process\n",
    "\n",
    "Laplace had the idea to augment the observations by noise, that is\n",
    "equivalent to considering a probability density whose mean is given by\n",
    "the *prediction function*\n",
    "$$p\\left(\\dataScalar_i|\\inputScalar_i\\right)=\\frac{1}{\\sqrt{2\\pi\\dataStd^2}}\\exp\\left(-\\frac{\\left(\\dataScalar_i-f\\left(\\inputScalar_i\\right)\\right)^{2}}{2\\dataStd^2}\\right).$$\n",
    "\n",
    "This is known as *stochastic process*. It is a function that is\n",
    "corrupted by noise. Laplace didn't suggest the Gaussian density for that\n",
    "purpose, that was an innovation from Carl Friederich Gauss, which is\n",
    "what gives the Gaussian density its name.\n",
    "\n",
    "### Height as a Function of Weight\n",
    "\n",
    "In the standard Gaussian, parametized by mean and variance.\n",
    "\n",
    "Make the mean a linear function of an *input*.\n",
    "\n",
    "This leads to a regression model. $$\n",
    "\\begin{align*}\n",
    "  \\dataScalar_i=&\\mappingFunction\\left(\\inputScalar_i\\right)+\\noiseScalar_i,\\\\\n",
    "         \\noiseScalar_i \\sim & \\gaussianSamp{0}{\\dataStd^2}.\n",
    "  \\end{align*}\n",
    "$$\n",
    "\n",
    "Assume $\\dataScalar_i$ is height and $\\inputScalar_i$ is weight.\n",
    "\n",
    "Likelihood of an individual data point $$\n",
    "p\\left(\\dataScalar_i|\\inputScalar_i,m,c\\right)=\\frac{1}{\\sqrt{2\\pi \\dataStd^2}}\\exp\\left(-\\frac{\\left(\\dataScalar_i-m\\inputScalar_i-c\\right)^{2}}{2\\dataStd^2}\\right).\n",
    "$$ Parameters are gradient, $m$, offset, $c$ of the function and noise\n",
    "variance $\\dataStd^2$.\n",
    "\n",
    "### Data Set Likelihood\n",
    "\n",
    "If the noise, $\\epsilon_i$ is sampled independently for each data point.\n",
    "Each data point is independent (given $m$ and $c$). For *independent*\n",
    "variables: $$\n",
    "p(\\dataVector) = \\prod_{i=1}^\\numData p(\\dataScalar_i)\n",
    "$$ $$\n",
    "p(\\dataVector|\\inputVector, m, c) = \\prod_{i=1}^\\numData p(\\dataScalar_i|\\inputScalar_i, m, c)\n",
    "$$\n",
    "\n",
    "### For Gaussian\n",
    "\n",
    "i.i.d. assumption $$\n",
    "p(\\dataVector|\\inputVector, m, c) = \\prod_{i=1}^\\numData \\frac{1}{\\sqrt{2\\pi \\dataStd^2}}\\exp \\left(-\\frac{\\left(\\dataScalar_i- m\\inputScalar_i-c\\right)^{2}}{2\\dataStd^2}\\right).\n",
    "$$ $$\n",
    "p(\\dataVector|\\inputVector, m, c) = \\frac{1}{\\left(2\\pi \\dataStd^2\\right)^{\\frac{\\numData}{2}}}\\exp\\left(-\\frac{\\sum_{i=1}^\\numData\\left(\\dataScalar_i-m\\inputScalar_i-c\\right)^{2}}{2\\dataStd^2}\\right).\n",
    "$$\n",
    "\n",
    "### Log Likelihood Function\n",
    "\n",
    "-   Normally work with the log likelihood: $$\n",
    "    L(m,c,\\dataStd^{2})=-\\frac{\\numData}{2}\\log 2\\pi -\\frac{\\numData}{2}\\log \\dataStd^2 -\\sum_{i=1}^{\\numData}\\frac{\\left(\\dataScalar_i-m\\inputScalar_i-c\\right)^{2}}{2\\dataStd^2}.\n",
    "    $$\n",
    "\n",
    "### Consistency of Maximum Likelihood\n",
    "\n",
    "-   If data was really generated according to probability we specified.\n",
    "-   Correct parameters will be recovered in limit as\n",
    "    $\\numData \\rightarrow \\infty$.\n",
    "-   This can be proven through sample based approximations (law of large\n",
    "    numbers) of \"KL divergences\".\n",
    "-   Mainstay of classical statistics.\n",
    "\n",
    "### Probabilistic Interpretation of the Error Function\n",
    "\n",
    "-   Probabilistic Interpretation for Error Function is Negative Log\n",
    "    Likelihood.\n",
    "-   *Minimizing* error function is equivalent to *maximizing* log\n",
    "    likelihood.\n",
    "-   Maximizing *log likelihood* is equivalent to maximizing the\n",
    "    *likelihood* because $\\log$ is monotonic.\n",
    "-   Probabilistic interpretation: Minimizing error function is\n",
    "    equivalent to maximum likelihood with respect to parameters.\n",
    "\n",
    "### Error Function\n",
    "\n",
    "-   Negative log likelihood is the error function leading to an error\n",
    "    function\n",
    "    $$\\errorFunction(m,c,\\dataStd^{2})=\\frac{\\numData}{2}\\log \\dataStd^2+\\frac{1}{2\\dataStd^2}\\sum _{i=1}^{\\numData}\\left(\\dataScalar_i-m\\inputScalar_i-c\\right)^{2}.$$\n",
    "-   Learning proceeds by minimizing this error function for the data set\n",
    "    provided.\n",
    "\n",
    "### Connection: Sum of Squares Error\n",
    "\n",
    "-   Ignoring terms which don’t depend on $m$ and $c$ gives\n",
    "    $$\\errorFunction(m, c) \\propto \\sum_{i=1}^\\numData (\\dataScalar_i - \\mappingFunction(\\inputScalar_i))^2$$\n",
    "    where $\\mappingFunction(\\inputScalar_i) = m\\inputScalar_i + c$.\n",
    "-   This is known as the *sum of squares* error function.\n",
    "-   Commonly used and is closely associated with the Gaussian\n",
    "    likelihood.\n",
    "\n",
    "### Reminder\n",
    "\n",
    "-   Two functions involved:\n",
    "    -   *Prediction function*: $\\mappingFunction(\\inputScalar_i)$\n",
    "    -   Error, or *Objective function*: $\\errorFunction(m, c)$\n",
    "-   Error function depends on parameters through prediction function.\n",
    "\n",
    "### Mathematical Interpretation\n",
    "\n",
    "-   What is the mathematical interpretation?\n",
    "-   There is a cost function.\n",
    "    -   It expresses mismatch between your prediction and reality. $$\n",
    "          \\errorFunction(m, c)=\\sum_{i=1}^\\numData \\left(\\dataScalar_i - m\\inputScalar_i-c\\right)^2\n",
    "          $$\n",
    "    -   This is known as the sum of squares error.\n",
    "\n",
    "## Sum of Squares Error\n",
    "\n",
    "Minimizing the sum of squares error was first proposed by\n",
    "[Legendre](http://en.wikipedia.org/wiki/Adrien-Marie_Legendre) in 1805.\n",
    "His book, which was on the orbit of comets, is available on google\n",
    "books, we can take a look at the relevant page by calling the code\n",
    "below."
   ]
  },
  {
   "cell_type": "code",
   "execution_count": 14,
   "metadata": {
    "collapsed": false
   },
   "outputs": [
    {
     "data": {
      "text/html": [
       "<iframe frameborder=\"0\" scrolling=\"yes\" style=\"border:0px\" src=\"http://books.google.co.uk/books?id=spcAAAAAMAAJ&pg=PA72&output=embed\", width=700 height=500></iframe>"
      ],
      "text/plain": [
       "<IPython.core.display.HTML object>"
      ]
     },
     "metadata": {},
     "output_type": "display_data"
    }
   ],
   "source": [
    "import pods\n",
    "pods.notebook.display_google_book(id='spcAAAAAMAAJ', page=72)"
   ]
  },
  {
   "cell_type": "markdown",
   "metadata": {},
   "source": [
    "Of course, the main text is in French, but the key part we are\n",
    "interested in can be roughly translated as\n",
    "\n",
    "> In most matters where we take measures data through observation, the\n",
    "> most accurate results they can offer, it is almost always leads to a\n",
    "> system of equations of the form $$E = a + bx + cy + fz + etc .$$ where\n",
    "> $a$, $b$, $c$, $f$ etc are the known coefficients and $x$, $y$, $z$\n",
    "> etc are unknown and must be determined by the condition that the value\n",
    "> of E is reduced, for each equation, to an amount or zero or very\n",
    "> small.\n",
    "\n",
    "He continues\n",
    "\n",
    "> Of all the principles that we can offer for this item, I think it is\n",
    "> not broader, more accurate, nor easier than the one we have used in\n",
    "> previous research application, and that is to make the minimum sum of\n",
    "> the squares of the errors. By this means, it is between the errors a\n",
    "> kind of balance that prevents extreme to prevail, is very specific to\n",
    "> make known the state of the closest to the truth system. The sum of\n",
    "> the squares of the errors\n",
    "> $E^2 + \\left.E^\\prime\\right.^2 + \\left.E^{\\prime\\prime}\\right.^2 + etc$\n",
    "> being\n",
    "> \\begin{align*}   &(a + bx + cy + fz + etc)^2 \\\\\n",
    "> + &(a^\\prime +\n",
    "> b^\\prime x + c^\\prime y + f^\\prime z + etc ) ^2\\\\\n",
    "> + &(a^{\\prime\\prime} +\n",
    "> b^{\\prime\\prime}x  + c^{\\prime\\prime}y +  f^{\\prime\\prime}z + etc )^2 \\\\\n",
    "> + & etc\n",
    "> \\end{align*}\n",
    "> if we wanted a minimum, by varying x alone, we will have the equation\n",
    "> ...\n",
    "\n",
    "This is the earliest know printed version of the problem of least\n",
    "squares. The notation, however, is a little awkward for mordern eyes. In\n",
    "particular Legendre doesn't make use of the sum sign, $$\n",
    "\\sum_{i=1}^3 z_i = z_1\n",
    "+ z_2 + z_3\n",
    "$$ nor does he make use of the inner product.\n",
    "\n",
    "In our notation, if we were to do linear regression, we would need to\n",
    "subsititue: $$\\begin{align*}\n",
    "a &\\leftarrow \\dataScalar_1-c, \\\\ a^\\prime &\\leftarrow \\dataScalar_2-c,\\\\ a^{\\prime\\prime} &\\leftarrow\n",
    "\\dataScalar_3 -c,\\\\ \n",
    "\\text{etc.} \n",
    "\\end{align*}$$ to introduce the data observations\n",
    "$\\{\\dataScalar_i\\}_{i=1}^{\\numData}$ alongside $c$, the offset. We would\n",
    "then introduce the input locations $$\\begin{align*}\n",
    "b & \\leftarrow \\inputScalar_1,\\\\\n",
    "b^\\prime & \\leftarrow \\inputScalar_2,\\\\\n",
    "b^{\\prime\\prime} & \\leftarrow \\inputScalar_3\\\\\n",
    "\\text{etc.}\n",
    "\\end{align*}$$ and finally the gradient of the function\n",
    "$$x \\leftarrow -m.$$ The remaining coefficients ($c$ and $f$) would then\n",
    "be zero. That would give us $$\\begin{align*}   &(\\dataScalar_1 -\n",
    "(m\\inputScalar_1+c))^2 \\\\\n",
    "+ &(\\dataScalar_2 -(m\\inputScalar_2 + c))^2\\\\\n",
    "+ &(\\dataScalar_3 -(m\\inputScalar_3 + c))^2 \\\\\n",
    "+ &\n",
    "\\text{etc.}\n",
    "\\end{align*}$$ which we would write in the modern notation for sums as\n",
    "$$\n",
    "\\sum_{i=1}^\\numData (\\dataScalar_i-(m\\inputScalar_i + c))^2\n",
    "$$ which is recognised as the sum of squares error for a linear\n",
    "regression.\n",
    "\n",
    "This shows the advantage of modern [summation\n",
    "operator](http://en.wikipedia.org/wiki/Summation), $\\sum$, in keeping\n",
    "our mathematical notation compact. Whilst it may look more complicated\n",
    "the first time you see it, understanding the mathematical rules that go\n",
    "around it, allows us to go much further with the notation.\n",
    "\n",
    "Inner products (or [dot\n",
    "products](http://en.wikipedia.org/wiki/Dot_product)) are similar. They\n",
    "allow us to write $$\n",
    "\\sum_{i=1}^q u_i v_i\n",
    "$$ in a more compact notation, $\\mathbf{u}\\cdot\\mathbf{v}.$\n",
    "\n",
    "Here we are using bold face to represent vectors, and we assume that the\n",
    "individual elements of a vector $\\mathbf{z}$ are given as a series of\n",
    "scalars $$\n",
    "\\mathbf{z} = \\begin{bmatrix} z_1\\\\ z_2\\\\ \\vdots\\\\ z_\\numData\n",
    "\\end{bmatrix}\n",
    "$$ which are each indexed by their position in the vector.\n",
    "\n",
    "## Linear Algebra\n",
    "\n",
    "Linear algebra provides a very similar role, when we introduce [linear\n",
    "algebra](http://en.wikipedia.org/wiki/Linear_algebra), it is because we\n",
    "are faced with a large number of addition and multiplication operations.\n",
    "These operations need to be done together and would be very tedious to\n",
    "write down as a group. So the first reason we reach for linear algebra\n",
    "is for a more compact representation of our mathematical formulae.\n",
    "\n",
    "### Running Example: Olympic Marathons\n",
    "\n",
    "Now we will load in the Olympic marathon data. This is data of the\n",
    "olympic marath times for the men's marathon from the first olympics in\n",
    "1896 up until the London 2012 olympics."
   ]
  },
  {
   "cell_type": "code",
   "execution_count": 15,
   "metadata": {
    "collapsed": true
   },
   "outputs": [],
   "source": [
    "data = pods.datasets.olympic_marathon_men()\n",
    "x = data['X']\n",
    "y = data['Y']"
   ]
  },
  {
   "cell_type": "markdown",
   "metadata": {},
   "source": [
    "You can see what these values are by typing:"
   ]
  },
  {
   "cell_type": "code",
   "execution_count": 16,
   "metadata": {
    "collapsed": false
   },
   "outputs": [
    {
     "name": "stdout",
     "output_type": "stream",
     "text": [
      "[[1896.]\n",
      " [1900.]\n",
      " [1904.]\n",
      " [1908.]\n",
      " [1912.]\n",
      " [1920.]\n",
      " [1924.]\n",
      " [1928.]\n",
      " [1932.]\n",
      " [1936.]\n",
      " [1948.]\n",
      " [1952.]\n",
      " [1956.]\n",
      " [1960.]\n",
      " [1964.]\n",
      " [1968.]\n",
      " [1972.]\n",
      " [1976.]\n",
      " [1980.]\n",
      " [1984.]\n",
      " [1988.]\n",
      " [1992.]\n",
      " [1996.]\n",
      " [2000.]\n",
      " [2004.]\n",
      " [2008.]\n",
      " [2012.]]\n",
      "[[4.47083333]\n",
      " [4.46472926]\n",
      " [5.22208333]\n",
      " [4.15467867]\n",
      " [3.90331675]\n",
      " [3.56951267]\n",
      " [3.82454477]\n",
      " [3.62483707]\n",
      " [3.59284275]\n",
      " [3.53880792]\n",
      " [3.67010309]\n",
      " [3.39029111]\n",
      " [3.43642612]\n",
      " [3.20583007]\n",
      " [3.13275665]\n",
      " [3.32819844]\n",
      " [3.13583758]\n",
      " [3.0789588 ]\n",
      " [3.10581822]\n",
      " [3.06552909]\n",
      " [3.09357349]\n",
      " [3.16111704]\n",
      " [3.14255244]\n",
      " [3.08527867]\n",
      " [3.10265829]\n",
      " [2.99877553]\n",
      " [3.03392977]]\n"
     ]
    }
   ],
   "source": [
    "print(x)\n",
    "print(y)"
   ]
  },
  {
   "cell_type": "markdown",
   "metadata": {},
   "source": [
    "Note that they are not `pandas` data frames for this example, they are\n",
    "just arrays of dimensionality $\\numData\\times 1$, where $\\numData$ is\n",
    "the number of data.\n",
    "\n",
    "The aim of this lab is to have you coding linear regression in python.\n",
    "We will do it in two ways, once using iterative updates (coordinate\n",
    "ascent) and then using linear algebra. The linear algebra approach will\n",
    "not only work much better, it is easy to extend to multiple input linear\n",
    "regression and *non-linear* regression using basis functions.\n",
    "\n",
    "### Plotting the Data\n",
    "\n",
    "You can make a plot of $\\dataScalar$ vs $\\inputScalar$ with the\n",
    "following command:"
   ]
  },
  {
   "cell_type": "code",
   "execution_count": 17,
   "metadata": {
    "collapsed": true
   },
   "outputs": [],
   "source": [
    "%matplotlib inline \n",
    "import matplotlib.pyplot as plt"
   ]
  },
  {
   "cell_type": "code",
   "execution_count": 18,
   "metadata": {
    "collapsed": false
   },
   "outputs": [
    {
     "data": {
      "text/plain": [
       "Text(0,0.5,'pace in min/km')"
      ]
     },
     "execution_count": 18,
     "metadata": {},
     "output_type": "execute_result"
    },
    {
     "data": {
      "image/png": "[encoded data removed]",
      "text/plain": [
       "<matplotlib.figure.Figure at 0x7f162bddc1d0>"
      ]
     },
     "metadata": {},
     "output_type": "display_data"
    }
   ],
   "source": [
    "plt.plot(x, y, 'rx')\n",
    "plt.xlabel('year')\n",
    "plt.ylabel('pace in min/km')"
   ]
  },
  {
   "cell_type": "markdown",
   "metadata": {},
   "source": [
    "### Maximum Likelihood: Iterative Solution\n",
    "\n",
    "Now we will take the maximum likelihood approach we derived in the\n",
    "lecture to fit a line, $\\dataScalar_i=m\\inputScalar_i + c$, to the data\n",
    "you've plotted. We are trying to minimize the error function: $$\n",
    "\\errorFunction(m, c) =  \\sum_{i=1}^\\numData(\\dataScalar_i-m\\inputScalar_i-c)^2\n",
    "$$ with respect to $m$, $c$ and $\\sigma^2$. We can start with an initial\n",
    "guess for $m$,"
   ]
  },
  {
   "cell_type": "code",
   "execution_count": 19,
   "metadata": {
    "collapsed": true
   },
   "outputs": [],
   "source": [
    "m = -0.4\n",
    "c = 80"
   ]
  },
  {
   "cell_type": "markdown",
   "metadata": {},
   "source": [
    "Then we use the maximum likelihood update to find an estimate for the\n",
    "offset, $c$.\n",
    "\n",
    "### Coordinate Descent\n",
    "\n",
    "In the movie recommender system example, we minimised the objective\n",
    "function by steepest descent based gradient methods. Our updates\n",
    "required us to compute the gradient at the position we were located,\n",
    "then to update the gradient according to the direction of steepest\n",
    "descent. This time, we will take another approach. It is known as\n",
    "*coordinate descent*. In coordinate descent, we choose to move one\n",
    "parameter at a time. Ideally, we design an algorithm that at each step\n",
    "moves the parameter to its minimum value. At each step we choose to move\n",
    "the individual parameter to its minimum.\n",
    "\n",
    "To find the minimum, we look for the point in the curve where the\n",
    "gradient is zero. This can be found by taking the gradient of\n",
    "$\\errorFunction(m,c)$ with respect to the parameter.\n",
    "\n",
    "#### Update for Offset\n",
    "\n",
    "Let's consider the parameter $c$ first. The gradient goes nicely through\n",
    "the summation operator, and we obtain $$\n",
    "\\frac{\\text{d}\\errorFunction(m,c)}{\\text{d}c} = -\\sum_{i=1}^\\numData 2(\\dataScalar_i-m\\inputScalar_i-c).\n",
    "$$ Now we want the point that is a minimum. A minimum is an example of a\n",
    "[*stationary point*](http://en.wikipedia.org/wiki/Stationary_point), the\n",
    "stationary points are those points of the function where the gradient is\n",
    "zero. They are found by solving the equation for\n",
    "$\\frac{\\text{d}\\errorFunction(m,c)}{\\text{d}c} = 0$. Substituting in to\n",
    "our gradient, we can obtain the following equation, $$\n",
    "0 = -\\sum_{i=1}^\\numData 2(\\dataScalar_i-m\\inputScalar_i-c)\n",
    "$$ which can be reorganised as follows, $$\n",
    "c^* = \\frac{\\sum_{i=1}^\\numData(\\dataScalar_i-m^*\\inputScalar_i)}{\\numData}.\n",
    "$$ The fact that the stationary point is easily extracted in this manner\n",
    "implies that the solution is *unique*. There is only one stationary\n",
    "point for this system. Traditionally when trying to determine the type\n",
    "of stationary point we have encountered we now compute the *second\n",
    "derivative*, $$\n",
    "\\frac{\\text{d}^2\\errorFunction(m,c)}{\\text{d}c^2} = 2n.\n",
    "$$ The second derivative is positive, which in turn implies that we have\n",
    "found a minimum of the function. This means that setting $c$ in this way\n",
    "will take us to the lowest point along that axes."
   ]
  },
  {
   "cell_type": "code",
   "execution_count": 20,
   "metadata": {
    "collapsed": false
   },
   "outputs": [
    {
     "name": "stdout",
     "output_type": "stream",
     "text": [
      "786.0197711453593\n"
     ]
    }
   ],
   "source": [
    "# set c to the minimum\n",
    "c = (y - m*x).mean()\n",
    "print(c)"
   ]
  },
  {
   "cell_type": "markdown",
   "metadata": {},
   "source": [
    "### Update for Slope\n",
    "\n",
    "Now we have the offset set to the minimum value, in coordinate descent,\n",
    "the next step is to optimise another parameter. Only one further\n",
    "parameter remains. That is the slope of the system.\n",
    "\n",
    "Now we can turn our attention to the slope. We once again peform the\n",
    "same set of computations to find the minima. We end up with an update\n",
    "equation of the following form.\n",
    "\n",
    "$$m^* = \\frac{\\sum_{i=1}^\\numData (\\dataScalar_i - c)\\inputScalar_i}{\\sum_{i=1}^\\numData \\inputScalar_i^2}$$\n",
    "\n",
    "Communication of mathematics in data science is an essential skill, in a\n",
    "moment, you will be asked to rederive the equation above. Before we do\n",
    "that, however, we will briefly review how to write mathematics in the\n",
    "notebook.\n",
    "\n",
    "### $\\LaTeX$ for Maths\n",
    "\n",
    "These cells use [Markdown\n",
    "format](http://en.wikipedia.org/wiki/Markdown). You can include maths in\n",
    "your markdown using [$\\LaTeX$\n",
    "syntax](http://en.wikipedia.org/wiki/LaTeX), all you have to do is write\n",
    "your answer inside dollar signs, as follows:\n",
    "\n",
    "To write a fraction, we write `$\\frac{a}{b}$`, and it will display like\n",
    "this $\\frac{a}{b}$. To write a subscript we write `$a_b$` which will\n",
    "appear as $a_b$. To write a superscript (for example in a polynomial) we\n",
    "write `$a^b$` which will appear as $a^b$. There are lots of other macros\n",
    "as well, for example we can do greek letters such as\n",
    "`$\\alpha, \\beta, \\gamma$` rendering as $\\alpha, \\beta, \\gamma$. And we\n",
    "can do sum and intergral signs as `$\\sum \\int \\int$`.\n",
    "\n",
    "You can combine many of these operations together for composing\n",
    "expressions.\n",
    "\n",
    "### Question 1\n",
    "\n",
    "Convert the following python code expressions into $\\LaTeX$j, writing\n",
    "your answers below. In each case write your answer as a single equality\n",
    "(i.e. your maths should only contain one expression, not several lines\n",
    "of expressions). For the purposes of your $\\LaTeX$ please assume that\n",
    "`x` and `w` are $n$ dimensional vectors.\n",
    "\n",
    "`(a) f = x.sum()`\n",
    "\n",
    "`(b) m = x.mean()`\n",
    "\n",
    "`(c) g = (x*w).sum()`\n",
    "\n",
    "*15 marks*\n",
    "\n",
    "### Write your answer to Question 1 here\n",
    "\n",
    "### Fixed Point Updates\n",
    "\n",
    "[Worked example.]{align=\"left\"} $$\n",
    "\\begin{aligned}\n",
    "    c^{*}=&\\frac{\\sum\n",
    "_{i=1}^{\\numData}\\left(\\dataScalar_i-m^{*}\\inputScalar_i\\right)}{\\numData},\\\\\n",
    "    m^{*}=&\\frac{\\sum\n",
    "_{i=1}^{\\numData}\\inputScalar_i\\left(\\dataScalar_i-c^{*}\\right)}{\\sum _{i=1}^{\\numData}\\inputScalar_i^{2}},\\\\\n",
    "\\left.\\dataStd^2\\right.^{*}=&\\frac{\\sum\n",
    "_{i=1}^{\\numData}\\left(\\dataScalar_i-m^{*}\\inputScalar_i-c^{*}\\right)^{2}}{\\numData}\n",
    "\\end{aligned}\n",
    "$$\n",
    "\n",
    "### Gradient With Respect to the Slope\n",
    "\n",
    "Now that you've had a little training in writing maths with $\\LaTeX$, we\n",
    "will be able to use it to answer questions. The next thing we are going\n",
    "to do is a little differentiation practice.\n",
    "\n",
    "### Question 2\n",
    "\n",
    "Derive the the gradient of the objective function with respect to the\n",
    "slope, $m$. Rearrange it to show that the update equation written above\n",
    "does find the stationary points of the objective function. By computing\n",
    "its derivative show that it's a minimum.\n",
    "\n",
    "*20 marks*\n",
    "\n",
    "### Write your answer to Question 2 here"
   ]
  },
  {
   "cell_type": "code",
   "execution_count": 21,
   "metadata": {
    "collapsed": false
   },
   "outputs": [
    {
     "name": "stdout",
     "output_type": "stream",
     "text": [
      "-0.3998724072997095\n"
     ]
    }
   ],
   "source": [
    "m = ((y - c)*x).sum()/(x**2).sum()\n",
    "print(m)"
   ]
  },
  {
   "cell_type": "markdown",
   "metadata": {},
   "source": [
    "We can have a look at how good our fit is by computing the prediction\n",
    "across the input space. First create a vector of 'test points',"
   ]
  },
  {
   "cell_type": "code",
   "execution_count": 22,
   "metadata": {
    "collapsed": true
   },
   "outputs": [],
   "source": [
    "import numpy as np\n",
    "x_test = np.linspace(1890, 2020, 130)[:, None]"
   ]
  },
  {
   "cell_type": "markdown",
   "metadata": {},
   "source": [
    "Now use this vector to compute some test predictions,"
   ]
  },
  {
   "cell_type": "code",
   "execution_count": 23,
   "metadata": {
    "collapsed": true
   },
   "outputs": [],
   "source": [
    "f_test = m*x_test + c"
   ]
  },
  {
   "cell_type": "markdown",
   "metadata": {},
   "source": [
    "Now plot those test predictions with a blue line on the same plot as the\n",
    "data,"
   ]
  },
  {
   "cell_type": "code",
   "execution_count": 24,
   "metadata": {
    "collapsed": false
   },
   "outputs": [
    {
     "data": {
      "text/plain": [
       "[<matplotlib.lines.Line2D at 0x7f16290b0518>]"
      ]
     },
     "execution_count": 24,
     "metadata": {},
     "output_type": "execute_result"
    },
    {
     "data": {
      "image/png": "[encoded data removed]",
      "text/plain": [
       "<matplotlib.figure.Figure at 0x7f16290b0940>"
      ]
     },
     "metadata": {},
     "output_type": "display_data"
    }
   ],
   "source": [
    "plt.plot(x_test, f_test, 'b-')\n",
    "plt.plot(x, y, 'rx')"
   ]
  },
  {
   "cell_type": "markdown",
   "metadata": {},
   "source": [
    "The fit isn't very good, we need to iterate between these parameter\n",
    "updates in a loop to improve the fit, we have to do this several times,"
   ]
  },
  {
   "cell_type": "code",
   "execution_count": 25,
   "metadata": {
    "collapsed": false
   },
   "outputs": [
    {
     "name": "stdout",
     "output_type": "stream",
     "text": [
      "-0.3987259642505432\n",
      "783.5273797273478\n"
     ]
    }
   ],
   "source": [
    "for i in np.arange(10):\n",
    "    m = ((y - c)*x).sum()/(x*x).sum()\n",
    "    c = (y-m*x).sum()/y.shape[0]\n",
    "print(m)\n",
    "print(c)"
   ]
  },
  {
   "cell_type": "markdown",
   "metadata": {},
   "source": [
    "And let's try plotting the result again"
   ]
  },
  {
   "cell_type": "code",
   "execution_count": 26,
   "metadata": {
    "collapsed": false
   },
   "outputs": [
    {
     "data": {
      "text/plain": [
       "[<matplotlib.lines.Line2D at 0x7f1629144e10>]"
      ]
     },
     "execution_count": 26,
     "metadata": {},
     "output_type": "execute_result"
    },
    {
     "data": {
      "image/png": "[encoded data removed]",
      "text/plain": [
       "<matplotlib.figure.Figure at 0x7f1629144940>"
      ]
     },
     "metadata": {},
     "output_type": "display_data"
    }
   ],
   "source": [
    "f_test = m*x_test + c\n",
    "plt.plot(x_test, f_test, 'b-')\n",
    "plt.plot(x, y, 'rx')"
   ]
  },
  {
   "cell_type": "markdown",
   "metadata": {},
   "source": [
    "Clearly we need more iterations than 10! In the next question you will\n",
    "add more iterations and report on the error as optimisation proceeds.\n",
    "\n",
    "### Question 3\n",
    "\n",
    "There is a problem here, we seem to need many interations to get to a\n",
    "good solution. Let's explore what's going on. Write code which\n",
    "alternates between updates of `c` and `m`. Include the following\n",
    "features in your code.\n",
    "\n",
    "1.  Initialise with `m=-0.4` and `c=80`.\n",
    "2.  Every 10 iterations compute the value of the objective function for\n",
    "    the training data and print it to the screen (you'll find hints on\n",
    "    this in [the lab from last week](./week2.ipynb).\n",
    "3.  Cause the code to stop running when the error change over less than\n",
    "    10 iterations is smaller than $1\\times10^{-4}$. This is known as a\n",
    "    stopping criterion.\n",
    "\n",
    "Why do we need so many iterations to get to the solution?\n",
    "\n",
    "*25 marks*"
   ]
  },
  {
   "cell_type": "code",
   "execution_count": 27,
   "metadata": {
    "collapsed": true
   },
   "outputs": [],
   "source": [
    "# Write your answer to Question 3 here"
   ]
  },
  {
   "cell_type": "markdown",
   "metadata": {},
   "source": [
    "### Important Concepts Not Covered\n",
    "\n",
    "-   Other optimization methods:\n",
    "    -   Second order methods, conjugate gradient, quasi-Newton and\n",
    "        Newton.\n",
    "-   Effective heuristics such as momentum.\n",
    "-   Local vs global solutions.\n",
    "\n",
    "### Reading\n",
    "\n",
    "-   Section 1.1-1.2 of @Rogers:book11 for fitting linear models.\n",
    "-   Section 1.2.5 of @Bishop:book06 up to equation 1.65.\n",
    "\n",
    "## Multiple Input Solution with Linear Algebra\n",
    "\n",
    "You've now seen how slow it can be to perform a coordinate ascent on a\n",
    "system. Another approach to solving the system (which is not always\n",
    "possible, particularly in *non-linear* systems) is to go direct to the\n",
    "minimum. To do this we need to introduce *linear algebra*. We will\n",
    "represent all our errors and functions in the form of linear algebra. As\n",
    "we mentioned above, linear algebra is just a shorthand for performing\n",
    "lots of multiplications and additions simultaneously. What does it have\n",
    "to do with our system then? Well the first thing to note is that the\n",
    "linear function we were trying to fit has the following form: $$\n",
    "\\mappingFunction(x) = mx + c\n",
    "$$ the classical form for a straight line. From a linear algebraic\n",
    "perspective we are looking for multiplications and additions. We are\n",
    "also looking to separate our parameters from our data. The data is the\n",
    "*givens* remember, in French the word is données literally translated\n",
    "means *givens* that's great, because we don't need to change the data,\n",
    "what we need to change are the parameters (or variables) of the model.\n",
    "In this function the data comes in through $x$, and the parameters are\n",
    "$m$ and $c$.\n",
    "\n",
    "What we'd like to create is a vector of parameters and a vector of data.\n",
    "Then we could represent the system with vectors that represent the data,\n",
    "and vectors that represent the parameters.\n",
    "\n",
    "We look to turn the multiplications and additions into a linear\n",
    "algebraic form, we have one multiplication ($m\\times c$ and one addition\n",
    "($mx + c$). But we can turn this into a inner product by writing it in\n",
    "the following way, $$\n",
    "\\mappingFunction(x) = m \\times x +\n",
    "c \\times 1,\n",
    "$$ in other words we've extracted the unit value, from the offset, $c$.\n",
    "We can think of this unit value like an extra item of data, because it\n",
    "is always given to us, and it is always set to 1 (unlike regular data,\n",
    "which is likely to vary!). We can therefore write each input data\n",
    "location, $\\inputVector$, as a vector $$\n",
    "\\inputVector = \\begin{bmatrix} 1\\\\ x\\end{bmatrix}.\n",
    "$$\n",
    "\n",
    "Now we choose to also turn our parameters into a vector. The parameter\n",
    "vector will be defined to contain $$\n",
    "\\mappingVector = \\begin{bmatrix} c \\\\ m\\end{bmatrix}\n",
    "$$ because if we now take the inner product between these to vectors we\n",
    "recover $$\n",
    "\\inputVector\\cdot\\mappingVector = 1 \\times c + x \\times m = mx + c\n",
    "$$ In `numpy` we can define this vector as follows"
   ]
  },
  {
   "cell_type": "code",
   "execution_count": 28,
   "metadata": {
    "collapsed": true
   },
   "outputs": [],
   "source": [
    "# define the vector w\n",
    "w = np.zeros(shape=(2, 1))\n",
    "w[0] = m\n",
    "w[1] = c"
   ]
  },
  {
   "cell_type": "markdown",
   "metadata": {},
   "source": [
    "This gives us the equivalence between original operation and an\n",
    "operation in vector space. Whilst the notation here isn't a lot shorter,\n",
    "the beauty is that we will be able to add as many features as we like\n",
    "and still keep the seame representation. In general, we are now moving\n",
    "to a system where each of our predictions is given by an inner product.\n",
    "When we want to represent a linear product in linear algebra, we tend to\n",
    "do it with the transpose operation, so since we have\n",
    "$\\mathbf{a}\\cdot\\mathbf{b} = \\mathbf{a}^\\top\\mathbf{b}$ we can write $$\n",
    "\\mappingFunction(\\inputVector_i) = \\inputVector_i^\\top\\mappingVector.\n",
    "$$ Where we've assumed that each data point, $\\inputVector_i$, is now\n",
    "written by appending a 1 onto the original vector $$\n",
    "\\inputVector_i = \\begin{bmatrix} \n",
    "1 \\\\\n",
    "\\inputScalar_i\n",
    "\\end{bmatrix}\n",
    "$$\n",
    "\n",
    "## Design Matrix\n",
    "\n",
    "We can do this for the entire data set to form a [*design\n",
    "matrix*](http://en.wikipedia.org/wiki/Design_matrix) $\\inputMatrix$,\n",
    "\n",
    "$$\\inputMatrix\n",
    "= \\begin{bmatrix} \n",
    "\\inputVector_1^\\top \\\\\\ \n",
    "\\inputVector_2^\\top \\\\\\ \n",
    "\\vdots \\\\\\\n",
    "\\inputVector_\\numData^\\top\n",
    "\\end{bmatrix} = \\begin{bmatrix}\n",
    "1 & \\inputScalar_1 \\\\\\\n",
    "1 & \\inputScalar_2 \\\\\\\n",
    "\\vdots\n",
    "& \\vdots \\\\\\\n",
    "1 & \\inputScalar_\\numData \n",
    "\\end{bmatrix},$$\n",
    "\n",
    "which in `numpy` can be done with the following commands:"
   ]
  },
  {
   "cell_type": "code",
   "execution_count": 29,
   "metadata": {
    "collapsed": false
   },
   "outputs": [
    {
     "name": "stdout",
     "output_type": "stream",
     "text": [
      "[[1.000e+00 1.896e+03]\n",
      " [1.000e+00 1.900e+03]\n",
      " [1.000e+00 1.904e+03]\n",
      " [1.000e+00 1.908e+03]\n",
      " [1.000e+00 1.912e+03]\n",
      " [1.000e+00 1.920e+03]\n",
      " [1.000e+00 1.924e+03]\n",
      " [1.000e+00 1.928e+03]\n",
      " [1.000e+00 1.932e+03]\n",
      " [1.000e+00 1.936e+03]\n",
      " [1.000e+00 1.948e+03]\n",
      " [1.000e+00 1.952e+03]\n",
      " [1.000e+00 1.956e+03]\n",
      " [1.000e+00 1.960e+03]\n",
      " [1.000e+00 1.964e+03]\n",
      " [1.000e+00 1.968e+03]\n",
      " [1.000e+00 1.972e+03]\n",
      " [1.000e+00 1.976e+03]\n",
      " [1.000e+00 1.980e+03]\n",
      " [1.000e+00 1.984e+03]\n",
      " [1.000e+00 1.988e+03]\n",
      " [1.000e+00 1.992e+03]\n",
      " [1.000e+00 1.996e+03]\n",
      " [1.000e+00 2.000e+03]\n",
      " [1.000e+00 2.004e+03]\n",
      " [1.000e+00 2.008e+03]\n",
      " [1.000e+00 2.012e+03]]\n"
     ]
    }
   ],
   "source": [
    "X = np.hstack((np.ones_like(x), x))\n",
    "print(X)"
   ]
  },
  {
   "cell_type": "markdown",
   "metadata": {},
   "source": [
    "### Writing the Objective with Linear Algebra\n",
    "\n",
    "When we think of the objective function, we can think of it as the\n",
    "errors where the error is defined in a similar way to what it was in\n",
    "Legendre's day $\\dataScalar_i - \\mappingFunction(\\inputVector_i)$, in\n",
    "statistics these errors are also sometimes called\n",
    "[*residuals*](http://en.wikipedia.org/wiki/Errors_and_residuals_in_statistics).\n",
    "So we can think as the objective and the prediction function as two\n",
    "separate parts, first we have, $$\n",
    "\\errorFunction(\\mappingVector) = \\sum_{i=1}^\\numData (\\dataScalar_i - \\mappingFunction(\\inputVector_i; \\mappingVector))^2,\n",
    "$$ where we've made the function $\\mappingFunction(\\cdot)$'s dependence\n",
    "on the parameters $\\mappingVector$ explicit in this equation. Then we\n",
    "have the definition of the function itself, $$\n",
    "\\mappingFunction(\\inputVector_i; \\mappingVector) = \\inputVector_i^\\top \\mappingVector.\n",
    "$$ Let's look again at these two equations and see if we can identify\n",
    "any inner products. The first equation is a sum of squares, which is\n",
    "promising. Any sum of squares can be represented by an inner product, $$\n",
    "a = \\sum_{i=1}^{k} b^2_i = \\mathbf{b}^\\top\\mathbf{b},\n",
    "$$ so if we wish to represent $\\errorFunction(\\mappingVector)$ in this\n",
    "way, all we need to do is convert the sum operator to an inner product.\n",
    "We can get a vector from that sum operator by placing both\n",
    "$\\dataScalar_i$ and $\\mappingFunction(\\inputVector_i; \\mappingVector)$\n",
    "into vectors, which we do by defining $$\n",
    "\\dataVector = \\begin{bmatrix}\\dataScalar_1\\\\ \\dataScalar_2\\\\ \\vdots \\\\ \\dataScalar_\\numData\\end{bmatrix}\n",
    "$$ and defining $$\n",
    "\\mappingFunctionVector(\\inputVector_1; \\mappingVector) = \\begin{bmatrix}\\mappingFunction(\\inputVector_1; \\mappingVector)\\\\ \\mappingFunction(\\inputVector_2; \\mappingVector)\\\\ \\vdots \\\\ \\mappingFunction(\\inputVector_\\numData; \\mappingVector)\\end{bmatrix}.\n",
    "$$ The second of these is actually a vector-valued function. This term\n",
    "may appear intimidating, but the idea is straightforward. A vector\n",
    "valued function is simply a vector whose elements are themselves defined\n",
    "as *functions*, i.e. it is a vector of functions, rather than a vector\n",
    "of scalars. The idea is so straightforward, that we are going to ignore\n",
    "it for the moment, and barely use it in the derivation. But it will\n",
    "reappear later when we introduce *basis functions*. So we will, for the\n",
    "moment, ignore the dependence of $\\mappingFunctionVector$ on\n",
    "$\\mappingVector$ and $\\inputMatrix$ and simply summarise it by a vector\n",
    "of numbers $$\n",
    "\\mappingFunctionVector = \\begin{bmatrix}\\mappingFunction_1\\\\\\mappingFunction_2\\\\\n",
    "\\vdots \\\\ \\mappingFunction_\\numData\\end{bmatrix}.\n",
    "$$ This allows us to write our objective in the folowing, linear\n",
    "algebraic form, $$\n",
    "\\errorFunction(\\mappingVector) = (\\dataVector - \\mappingFunctionVector)^\\top(\\dataVector - \\mappingFunctionVector)\n",
    "$$ from the rules of inner products. But what of our matrix\n",
    "$\\inputMatrix$ of input data? At this point, we need to dust off\n",
    "[*matrix-vector\n",
    "multiplication*](http://en.wikipedia.org/wiki/Matrix_multiplication).\n",
    "Matrix multiplication is simply a convenient way of performing many\n",
    "inner products together, and it's exactly what we need to summarise the\n",
    "operation $$\n",
    "f_i = \\inputVector_i^\\top\\mappingVector.\n",
    "$$ This operation tells us that each element of the vector\n",
    "$\\mappingFunctionVector$ (our vector valued function) is given by an\n",
    "inner product between $\\inputVector_i$ and $\\mappingVector$. In other\n",
    "words it is a series of inner products. Let's look at the definition of\n",
    "matrix multiplication, it takes the form $$\n",
    "\\mathbf{c} = \\mathbf{B}\\mathbf{a}\n",
    "$$ where $\\mathbf{c}$ might be a $k$ dimensional vector (which we can\n",
    "intepret as a $k\\times 1$ dimensional matrix), and $\\mathbf{B}$ is a\n",
    "$k\\times k$ dimensional matrix and $\\mathbf{a}$ is a $k$ dimensional\n",
    "vector ($k\\times 1$ dimensional matrix).\n",
    "\n",
    "The result of this multiplication is of the form $$\n",
    "\\begin{bmatrix}c_1\\\\c_2 \\\\ \\vdots \\\\\n",
    "a_k\\end{bmatrix} = \n",
    "\\begin{bmatrix} b_{1,1} & b_{1, 2} & \\dots & b_{1, k} \\\\\n",
    "b_{2, 1} & b_{2, 2} & \\dots & b_{2, k} \\\\\n",
    "\\vdots & \\vdots & \\ddots & \\vdots \\\\\n",
    "b_{k, 1} & b_{k, 2} & \\dots & b_{k, k} \\end{bmatrix} \\begin{bmatrix}a_1\\\\a_2 \\\\\n",
    "\\vdots\\\\ c_k\\end{bmatrix} = \\begin{bmatrix} b_{1, 1}a_1 + b_{1, 2}a_2 + \\dots +\n",
    "b_{1, k}a_k\\\\\n",
    "b_{2, 1}a_1 + b_{2, 2}a_2 + \\dots + b_{2, k}a_k \\\\ \n",
    "\\vdots\\\\\n",
    "b_{k, 1}a_1 + b_{k, 2}a_2 + \\dots + b_{k, k}a_k\\end{bmatrix}\n",
    "$$ so we see that each element of the result, $\\mathbf{a}$ is simply the\n",
    "inner product between each *row* of $\\mathbf{B}$ and the vector\n",
    "$\\mathbf{c}$. Because we have defined each element of\n",
    "$\\mappingFunctionVector$ to be given by the inner product between each\n",
    "*row* of the design matrix and the vector $\\mappingVector$ we now can\n",
    "write the full operation in one matrix multiplication, $$\n",
    "\\mappingFunctionVector = \\inputMatrix\\mappingVector.\n",
    "$$"
   ]
  },
  {
   "cell_type": "code",
   "execution_count": 30,
   "metadata": {
    "collapsed": true
   },
   "outputs": [],
   "source": [
    "f = np.dot(X, w) # np.dot does matrix multiplication in python"
   ]
  },
  {
   "cell_type": "markdown",
   "metadata": {},
   "source": [
    "Combining this result with our objective function, $$\n",
    "\\errorFunction(\\mappingVector) = (\\dataVector - \\mappingFunctionVector)^\\top(\\dataVector - \\mappingFunctionVector)\n",
    "$$ we find we have defined the *model* with two equations. One equation\n",
    "tells us the form of our predictive function and how it depends on its\n",
    "parameters, the other tells us the form of our objective function."
   ]
  },
  {
   "cell_type": "code",
   "execution_count": 31,
   "metadata": {
    "collapsed": false
   },
   "outputs": [
    {
     "name": "stdout",
     "output_type": "stream",
     "text": [
      "Error function is: [[6.34574157e+13]]\n"
     ]
    }
   ],
   "source": [
    "resid = (y-f)\n",
    "E = np.dot(resid.T, resid) # matrix multiplication on a single vector is equivalent to a dot product.\n",
    "print(\"Error function is:\", E)"
   ]
  },
  {
   "cell_type": "markdown",
   "metadata": {},
   "source": [
    "### Question 4\n",
    "\n",
    "The prediction for our movie recommender system had the form $$\n",
    "f_{i,j} = \\mathbf{u}_i^\\top \\mathbf{v}_j\n",
    "$$ and the objective function was then $$\n",
    "E = \\sum_{i,j} s_{i,j}(\\dataScalar_{i,j} - f_{i, j})^2\n",
    "$$ Try writing this down in matrix and vector form. How many of the\n",
    "terms can you do? For each variable and parameter carefully think about\n",
    "whether it should be represented as a matrix or vector. Do as many of\n",
    "the terms as you can. Use $\\LaTeX$ to give your answers and give the\n",
    "*dimensions* of any matrices you create.\n",
    "\n",
    "*20 marks*\n",
    "\n",
    "### Write your answer to Question 4 here\n",
    "\n",
    "## Objective Optimisation\n",
    "\n",
    "Our *model* has now been defined with two equations, the prediction\n",
    "function and the objective function. Next we will use multivariate\n",
    "calculus to define an *algorithm* to fit the model. The separation\n",
    "between model and algorithm is important and is often overlooked. Our\n",
    "model contains a function that shows how it will be used for prediction,\n",
    "and a function that describes the objective function we need to optimise\n",
    "to obtain a good set of parameters.\n",
    "\n",
    "The model linear regression model we have described is still the same as\n",
    "the one we fitted above with a coordinate ascent algorithm. We have only\n",
    "played with the notation to obtain the same model in a matrix and vector\n",
    "notation. However, we will now fit this model with a different\n",
    "algorithm, one that is much faster. It is such a widely used algorithm\n",
    "that from the end user's perspective it doesn't even look like an\n",
    "algorithm, it just appears to be a single operation (or function).\n",
    "However, underneath the computer calls an algorithm to find the\n",
    "solution. Further, the algorithm we obtain is very widely used, and\n",
    "because of this it turns out to be highly optimised.\n",
    "\n",
    "Once again we are going to try and find the stationary points of our\n",
    "objective by finding the *stationary points*. However, the stationary\n",
    "points of a multivariate function, are a little bit more complext to\n",
    "find. Once again we need to find the point at which the derivative is\n",
    "zero, but now we need to use *multivariate calculus* to find it. This\n",
    "involves learning a few additional rules of differentiation (that allow\n",
    "you to do the derivatives of a function with respect to vector), but in\n",
    "the end it makes things quite a bit easier. We define vectorial\n",
    "derivatives as follows, $$\n",
    "\\frac{\\text{d}\\errorFunction(\\mappingVector)}{\\text{d}\\mappingVector} =\n",
    "\\begin{bmatrix}\\frac{\\text{d}\\errorFunction(\\mappingVector)}{\\text{d}\\mappingScalar_1}\\\\\\frac{\\text{d}\\errorFunction(\\mappingVector)}{\\text{d}\\mappingScalar_2}\\end{bmatrix}.\n",
    "$$ where\n",
    "$\\frac{\\text{d}\\errorFunction(\\mappingVector)}{\\text{d}\\mappingScalar_1}$\n",
    "is the [partial\n",
    "derivative](http://en.wikipedia.org/wiki/Partial_derivative) of the\n",
    "error function with respect to $\\mappingScalar_1$.\n",
    "\n",
    "Differentiation through multiplications and additions is relatively\n",
    "straightforward, and since linear algebra is just multiplication and\n",
    "addition, then its rules of diffentiation are quite straightforward too,\n",
    "but slightly more complex than regular derivatives.\n",
    "\n",
    "### Multivariate Derivatives\n",
    "\n",
    "We will need two rules of multivariate or *matrix* differentiation. The\n",
    "first is diffentiation of an inner product. By remembering that the\n",
    "inner product is made up of multiplication and addition, we can hope\n",
    "that its derivative is quite straightforward, and so it proves to be. We\n",
    "can start by thinking about the definition of the inner product, $$\n",
    "\\mathbf{a}^\\top\\mathbf{z} = \\sum_{i} a_i\n",
    "z_i,\n",
    "$$ which if we were to take the derivative with respect to $z_k$ would\n",
    "simply return the gradient of the one term in the sum for which the\n",
    "derivative was non zero, that of $a_k$, so we know that $$\n",
    "\\frac{\\text{d}}{\\text{d}z_k} \\mathbf{a}^\\top \\mathbf{z} = a_k\n",
    "$$ and by our definition of multivariate derivatives we can simply stack\n",
    "all the partial derivatives of this form in a vector to obtain the\n",
    "result that $$\n",
    "\\frac{\\text{d}}{\\text{d}\\mathbf{z}}\n",
    "\\mathbf{a}^\\top \\mathbf{z} = \\mathbf{a}.\n",
    "$$ The second rule that's required is differentiation of a 'matrix\n",
    "quadratic'. A scalar quadratic in $z$ with coefficient $c$ has the form\n",
    "$cz^2$. If $\\mathbf{z}$ is a $k\\times 1$ vector and $\\mathbf{C}$ is a\n",
    "$k \\times k$ *matrix* of coefficients then the matrix quadratic form is\n",
    "written as $\\mathbf{z}^\\top \\mathbf{C}\\mathbf{z}$, which is itself a\n",
    "*scalar* quantity, but it is a function of a *vector*.\n",
    "\n",
    "#### Matching Dimensions in Matrix Multiplications\n",
    "\n",
    "There's a trick for telling that it's a scalar result. When you are\n",
    "doing maths with matrices, it's always worth pausing to perform a quick\n",
    "sanity check on the dimensions. Matrix multplication only works when the\n",
    "dimensions match. To be precise, the 'inner' dimension of the matrix\n",
    "must match. What is the inner dimension. If we multiply two matrices\n",
    "$\\mathbf{A}$ and $\\mathbf{B}$, the first of which has $k$ rows and\n",
    "$\\ell$ columns and the second of which has $p$ rows and $q$ columns,\n",
    "then we can check whether the multiplication works by writing the\n",
    "dimensionalities next to each other, $$\n",
    "\\mathbf{A} \\mathbf{B} \\rightarrow (k \\times\n",
    "\\underbrace{\\ell)(p}_\\text{inner dimensions} \\times q) \\rightarrow (k\\times q).\n",
    "$$ The inner dimensions are the two inside dimensions, $\\ell$ and $p$.\n",
    "The multiplication will only work if $\\ell=p$. The result of the\n",
    "multiplication will then be a $k\\times q$ matrix: this dimensionality\n",
    "comes from the 'outer dimensions'. Note that matrix multiplication is\n",
    "not [*commutative*](http://en.wikipedia.org/wiki/Commutative_property).\n",
    "And if you change the order of the multiplication, $$\n",
    "\\mathbf{B} \\mathbf{A} \\rightarrow (\\ell \\times \\underbrace{k)(q}_\\text{inner dimensions} \\times p) \\rightarrow (\\ell \\times p).\n",
    "$$ firstly it may no longer even work, because now the condition is that\n",
    "$k=q$, and secondly the result could be of a different dimensionality.\n",
    "An exception is if the matrices are square matrices (e.g. same number of\n",
    "rows as columns) and they are both *symmetric*. A symmetric matrix is\n",
    "one for which $\\mathbf{A}=\\mathbf{A}^\\top$, or equivalently,\n",
    "$a_{i,j} = a_{j,i}$ for all $i$ and $j$.\n",
    "\n",
    "You will need to get used to working with matrices and vectors applying\n",
    "and developing new machine learning techniques. You should have come\n",
    "across them before, but you may not have used them as extensively as we\n",
    "will now do in this course. You should get used to using this trick to\n",
    "check your work and ensure you know what the dimension of an output\n",
    "matrix should be. For our matrix quadratic form, it turns out that we\n",
    "can see it as a special type of inner product. $$\n",
    "\\mathbf{z}^\\top\\mathbf{C}\\mathbf{z} \\rightarrow (1\\times\n",
    "\\underbrace{k) (k}_\\text{inner dimensions}\\times k) (k\\times 1) \\rightarrow\n",
    "\\mathbf{b}^\\top\\mathbf{z}\n",
    "$$ where $\\mathbf{b} = \\mathbf{C}\\mathbf{z}$ so therefore the result is\n",
    "a scalar, $$\n",
    "\\mathbf{b}^\\top\\mathbf{z} \\rightarrow\n",
    "(1\\times \\underbrace{k) (k}_\\text{inner dimensions}\\times 1) \\rightarrow\n",
    "(1\\times 1)\n",
    "$$ where a $(1\\times 1)$ matrix is recognised as a scalar.\n",
    "\n",
    "This implies that we should be able to differentiate this form, and\n",
    "indeed the rule for its differentiation is slightly more complex than\n",
    "the inner product, but still quite simple, $$\n",
    "\\frac{\\text{d}}{\\text{d}\\mathbf{z}}\n",
    "\\mathbf{z}^\\top\\mathbf{C}\\mathbf{z}= \\mathbf{C}\\mathbf{z} + \\mathbf{C}^\\top\n",
    "\\mathbf{z}.\n",
    "$$ Note that in the special case where $\\mathbf{C}$ is symmetric then we\n",
    "have $\\mathbf{C} = \\mathbf{C}^\\top$ and the derivative simplifies to $$\n",
    "\\frac{\\text{d}}{\\text{d}\\mathbf{z}} \\mathbf{z}^\\top\\mathbf{C}\\mathbf{z}=\n",
    "2\\mathbf{C}\\mathbf{z}.\n",
    "$$\n",
    "\n",
    "### Differentiate the Objective\n",
    "\n",
    "First, we need to compute the full objective by substituting our\n",
    "prediction function into the objective function to obtain the objective\n",
    "in terms of $\\mappingVector$. Doing this we obtain $$\n",
    "\\errorFunction(\\mappingVector)= (\\dataVector - \\inputMatrix\\mappingVector)^\\top (\\dataVector - \\inputMatrix\\mappingVector).\n",
    "$$ We now need to differentiate this *quadratic form* to find the\n",
    "minimum. We differentiate with respect to the *vector* $\\mappingVector$.\n",
    "But before we do that, we'll expand the brackets in the quadratic form\n",
    "to obtain a series of scalar terms. The rules for bracket expansion\n",
    "across the vectors are similar to those for the scalar system giving, $$\n",
    "(\\mathbf{a} - \\mathbf{b})^\\top\n",
    "(\\mathbf{c} - \\mathbf{d}) = \\mathbf{a}^\\top \\mathbf{c} - \\mathbf{a}^\\top\n",
    "\\mathbf{d} - \\mathbf{b}^\\top \\mathbf{c} + \\mathbf{b}^\\top \\mathbf{d}\n",
    "$$ which substituting for $\\mathbf{a} = \\mathbf{c} = \\dataVector$ and\n",
    "$\\mathbf{b}=\\mathbf{d} = \\inputMatrix\\mappingVector$ gives $$\n",
    "\\errorFunction(\\mappingVector)=\n",
    "\\dataVector^\\top\\dataVector - 2\\dataVector^\\top\\inputMatrix\\mappingVector +\n",
    "\\mappingVector^\\top\\inputMatrix^\\top\\inputMatrix\\mappingVector\n",
    "$$ where we used the fact that\n",
    "$\\dataVector^\\top\\inputMatrix\\mappingVector=\\mappingVector^\\top\\inputMatrix^\\top\\dataVector$.\n",
    "Now we can use our rules of differentiation to compute the derivative of\n",
    "this form, which is, $$\n",
    "\\frac{\\text{d}}{\\text{d}\\mappingVector}\\errorFunction(\\mappingVector)=- 2\\inputMatrix^\\top \\dataVector +\n",
    "2\\inputMatrix^\\top\\inputMatrix\\mappingVector,\n",
    "$$ where we have exploited the fact that $\\inputMatrix^\\top\\inputMatrix$\n",
    "is symmetric to obtain this result.\n",
    "\n",
    "### Question 5\n",
    "\n",
    "Use the equivalence between our vector and our matrix formulations of\n",
    "linear regression, alongside our definition of vector derivates, to\n",
    "match the gradients we've computed directly for\n",
    "$\\frac{\\text{d}\\errorFunction(c, m)}{\\text{d}c}$ and\n",
    "$\\frac{\\text{d}\\errorFunction(c, m)}{\\text{d}m}$ to those for\n",
    "$\\frac{\\text{d}\\errorFunction(\\mappingVector)}{\\text{d}\\mappingVector}$.\n",
    "\n",
    "*20 marks*\n",
    "\n",
    "### Write your answer to Question 5 here\n",
    "\n",
    "## Update Equation for Global Optimum\n",
    "\n",
    "Once again, we need to find the minimum of our objective function. Using\n",
    "our likelihood for multiple input regression we can now minimize for our\n",
    "parameter vector $\\mappingVector$. Firstly, just as in the single input\n",
    "case, we seek stationary points by find parameter vectors that solve for\n",
    "when the gradients are zero, $$\n",
    "\\mathbf{0}=- 2\\inputMatrix^\\top\n",
    "\\dataVector + 2\\inputMatrix^\\top\\inputMatrix\\mappingVector,\n",
    "$$ where $\\mathbf{0}$ is a *vector* of zeros. Rearranging this equation\n",
    "we find the solution to be $$\n",
    "\\mappingVector = \\left[\\inputMatrix^\\top \\inputMatrix\\right]^{-1} \\inputMatrix^\\top\n",
    "\\dataVector\n",
    "$$ where $\\mathbf{A}^{-1}$ denotes [*matrix\n",
    "inverse*](http://en.wikipedia.org/wiki/Invertible_matrix).\n",
    "\n",
    "### Solving the Multivariate System\n",
    "\n",
    "The solution for $\\mappingVector$ is given in terms of a matrix inverse,\n",
    "but computation of a matrix inverse requires, in itself, an algorithm to\n",
    "resolve it. You'll know this if you had to invert, by hand, a\n",
    "$3\\times 3$ matrix in high school. From a numerical stability\n",
    "perspective, it is also best not to compute the matrix inverse directly,\n",
    "but rather to ask the computer to *solve* the system of linear equations\n",
    "given by\n",
    "$$\\inputMatrix^\\top\\inputMatrix \\mappingVector = \\inputMatrix^\\top\\dataVector$$\n",
    "for $\\mappingVector$. This can be done in `numpy` using the command"
   ]
  },
  {
   "cell_type": "code",
   "execution_count": 32,
   "metadata": {
    "collapsed": true
   },
   "outputs": [],
   "source": [
    "np.linalg.solve?"
   ]
  },
  {
   "cell_type": "markdown",
   "metadata": {},
   "source": [
    "so we can obtain the solution using"
   ]
  },
  {
   "cell_type": "code",
   "execution_count": 33,
   "metadata": {
    "collapsed": false
   },
   "outputs": [
    {
     "name": "stdout",
     "output_type": "stream",
     "text": [
      "[[ 2.88952457e+01]\n",
      " [-1.29806477e-02]]\n"
     ]
    }
   ],
   "source": [
    "w = np.linalg.solve(np.dot(X.T, X), np.dot(X.T, y))\n",
    "print(w)"
   ]
  },
  {
   "cell_type": "markdown",
   "metadata": {},
   "source": [
    "We can map it back to the liner regression and plot the fit as follows"
   ]
  },
  {
   "cell_type": "code",
   "execution_count": 34,
   "metadata": {
    "collapsed": false
   },
   "outputs": [
    {
     "name": "stdout",
     "output_type": "stream",
     "text": [
      "[-0.01298065]\n",
      "[28.89524574]\n"
     ]
    },
    {
     "data": {
      "text/plain": [
       "[<matplotlib.lines.Line2D at 0x7f1628feb7f0>]"
      ]
     },
     "execution_count": 34,
     "metadata": {},
     "output_type": "execute_result"
    },
    {
     "data": {
      "image/png": "[encoded data removed]",
      "text/plain": [
       "<matplotlib.figure.Figure at 0x7f1628febcc0>"
      ]
     },
     "metadata": {},
     "output_type": "display_data"
    }
   ],
   "source": [
    "m = w[1]; c=w[0]\n",
    "f_test = m*x_test + c\n",
    "print(m)\n",
    "print(c)\n",
    "plt.plot(x_test, f_test, 'b-')\n",
    "plt.plot(x, y, 'rx')"
   ]
  },
  {
   "cell_type": "markdown",
   "metadata": {},
   "source": [
    "### Multivariate Linear Regression\n",
    "\n",
    "A major advantage of the new system is that we can build a linear\n",
    "regression on a multivariate system. The matrix calculus didn't specify\n",
    "what the length of the vector $\\inputVector$ should be, or equivalently\n",
    "the size of the design matrix.\n",
    "\n",
    "### Movie Body Count Data\n",
    "\n",
    "Let's consider the movie body count data."
   ]
  },
  {
   "cell_type": "code",
   "execution_count": 35,
   "metadata": {
    "collapsed": false
   },
   "outputs": [
    {
     "name": "stdout",
     "output_type": "stream",
     "text": [
      "Acquiring resource: movie_body_count\n",
      "\n",
      "Details of data: \n",
      "Data scraped from www.MovieBodyCounts.com and www.imdb.com using scripts provided on a github repository (in both Python and R) at https://github.com/morpionZ/R-vs-Python/tree/master/Deadliest%20movies%20scrape/code. This script pulls down the scraped data.\n",
      "\n",
      "Please cite:\n",
      "Simon Garnier and Randy Olson, Blog Post: R vs Python Round 2, February 2nd 2014 (http://www.theswarmlab.com/r-vs-python-round-2-22/)\n",
      "\n",
      "After downloading the data will take up 536272 bytes of space.\n",
      "\n",
      "Data will be stored in /home/mike/ods_data_cache/movie_body_count.\n",
      "\n",
      "Do you wish to proceed with the download? [yes/no]\n",
      "yes\n",
      "Downloading  https://github.com/sjmgarnier/R-vs-Python/raw/master/Deadliest%20movies%20scrape/code/film-death-counts-Python.csv -> /home/mike/ods_data_cache/movie_body_count/film-death-counts-Python.csv\n",
      "[==============================]   0.366/0.366MB                                                                                                                                                                                                                                                                                                                                                                                                                                                                                                                                                                                                                                                                                                                                                                                                                                                                                                                                                                                                                                                                                                                                                                                                                                                                                                                                                                                                                                                                                                                                                                                                                                                                                                                                                                                                                                                                                                                                                                                                                                                                                                                                                                                                                                                                                                                                                \n"
     ]
    }
   ],
   "source": [
    "data = pods.datasets.movie_body_count()\n",
    "movies = data['Y']"
   ]
  },
  {
   "cell_type": "markdown",
   "metadata": {},
   "source": [
    "Let's remind ourselves of the features we've been provided with."
   ]
  },
  {
   "cell_type": "code",
   "execution_count": 36,
   "metadata": {
    "collapsed": false
   },
   "outputs": [
    {
     "name": "stdout",
     "output_type": "stream",
     "text": [
      "Film, Year, Body_Count, MPAA_Rating, Genre, Director, Actors, Length_Minutes, IMDB_Rating\n"
     ]
    }
   ],
   "source": [
    "print(', '.join(movies.columns))"
   ]
  },
  {
   "cell_type": "markdown",
   "metadata": {},
   "source": [
    "Now we will build a design matrix based on the numeric features: year,\n",
    "Body\\_Count, Length\\_Minutes in an effort to predict the rating. We\n",
    "build the design matrix as follows:\n",
    "\n",
    "### Relation to Single Input System\n",
    "\n",
    "Bias as an additional feature."
   ]
  },
  {
   "cell_type": "code",
   "execution_count": 38,
   "metadata": {
    "collapsed": false
   },
   "outputs": [
    {
     "name": "stderr",
     "output_type": "stream",
     "text": [
      " /home/mike/anaconda3/lib/python3.6/site-packages/ipykernel_launcher.py:3: SettingWithCopyWarning:\n",
      "A value is trying to be set on a copy of a slice from a DataFrame.\n",
      "Try using .loc[row_indexer,col_indexer] = value instead\n",
      "\n",
      "See the caveats in the documentation: http://pandas.pydata.org/pandas-docs/stable/indexing.html#indexing-view-versus-copy\n"
     ]
    }
   ],
   "source": [
    "select_features = ['Year', 'Body_Count', 'Length_Minutes']\n",
    "X = movies[select_features]\n",
    "X['Eins'] = 1 # add a column for the offset\n",
    "y = movies[['IMDB_Rating']]"
   ]
  },
  {
   "cell_type": "markdown",
   "metadata": {},
   "source": [
    "Now let's perform a linear regression. But this time, we will create a\n",
    "pandas data frame for the result so we can store it in a form that we\n",
    "can visualise easily."
   ]
  },
  {
   "cell_type": "code",
   "execution_count": 39,
   "metadata": {
    "collapsed": true
   },
   "outputs": [],
   "source": [
    "import pandas as pd\n",
    "w = pd.DataFrame(data=np.linalg.solve(np.dot(X.T, X), np.dot(X.T, y)),  # solve linear regression here\n",
    "                 index = X.columns,  # columns of X become rows of w\n",
    "                 columns=['regression_coefficient']) # the column of X is the value of regression coefficient"
   ]
  },
  {
   "cell_type": "markdown",
   "metadata": {},
   "source": [
    "We can check the residuals to see how good our estimates are"
   ]
  },
  {
   "cell_type": "code",
   "execution_count": 40,
   "metadata": {
    "collapsed": false
   },
   "outputs": [
    {
     "data": {
      "text/plain": [
       "array([[<matplotlib.axes._subplots.AxesSubplot object at 0x7f16291ebb70>]],\n",
       "      dtype=object)"
      ]
     },
     "execution_count": 40,
     "metadata": {},
     "output_type": "execute_result"
    },
    {
     "data": {
      "image/png": "[encoded data removed]",
      "text/plain": [
       "<matplotlib.figure.Figure at 0x7f16292b99e8>"
      ]
     },
     "metadata": {},
     "output_type": "display_data"
    }
   ],
   "source": [
    "(y - np.dot(X, w)).hist()"
   ]
  },
  {
   "cell_type": "markdown",
   "metadata": {},
   "source": [
    "Which shows our model *hasn't* yet done a great job of representation,\n",
    "because the spread of values is large. We can check what the rating is\n",
    "dominated by in terms of regression coefficients."
   ]
  },
  {
   "cell_type": "code",
   "execution_count": 41,
   "metadata": {
    "collapsed": false
   },
   "outputs": [
    {
     "data": {
      "text/html": [
       "<div>\n",
       "<style scoped>\n",
       "    .dataframe tbody tr th:only-of-type {\n",
       "        vertical-align: middle;\n",
       "    }\n",
       "\n",
       "    .dataframe tbody tr th {\n",
       "        vertical-align: top;\n",
       "    }\n",
       "\n",
       "    .dataframe thead th {\n",
       "        text-align: right;\n",
       "    }\n",
       "</style>\n",
       "<table border=\"1\" class=\"dataframe\">\n",
       "  <thead>\n",
       "    <tr style=\"text-align: right;\">\n",
       "      <th></th>\n",
       "      <th>regression_coefficient</th>\n",
       "    </tr>\n",
       "  </thead>\n",
       "  <tbody>\n",
       "    <tr>\n",
       "      <th>Year</th>\n",
       "      <td>-0.016280</td>\n",
       "    </tr>\n",
       "    <tr>\n",
       "      <th>Body_Count</th>\n",
       "      <td>-0.000995</td>\n",
       "    </tr>\n",
       "    <tr>\n",
       "      <th>Length_Minutes</th>\n",
       "      <td>0.025386</td>\n",
       "    </tr>\n",
       "    <tr>\n",
       "      <th>Eins</th>\n",
       "      <td>36.508363</td>\n",
       "    </tr>\n",
       "  </tbody>\n",
       "</table>\n",
       "</div>"
      ],
      "text/plain": [
       "                regression_coefficient\n",
       "Year                         -0.016280\n",
       "Body_Count                   -0.000995\n",
       "Length_Minutes                0.025386\n",
       "Eins                         36.508363"
      ]
     },
     "execution_count": 41,
     "metadata": {},
     "output_type": "execute_result"
    }
   ],
   "source": [
    "w"
   ]
  },
  {
   "cell_type": "markdown",
   "metadata": {},
   "source": [
    "Although we have to be a little careful about interpretation because our\n",
    "input values live on different scales, however it looks like we are\n",
    "dominated by the bias, with a small negative effect for later films (but\n",
    "bear in mind the years are large, so this effect is probably larger than\n",
    "it looks) and a positive effect for length. So it looks like long\n",
    "earlier films generally do better, but the residuals are so high that we\n",
    "probably haven't modelled the system very well."
   ]
  },
  {
   "cell_type": "code",
   "execution_count": 42,
   "metadata": {
    "collapsed": false
   },
   "outputs": [
    {
     "data": {
      "image/jpeg": "[encoded data removed]",
      "text/html": [
       "\n",
       "        <iframe\n",
       "            width=\"400\"\n",
       "            height=\"300\"\n",
       "            src=\"https://www.youtube.com/embed/ui-uNlFHoms\"\n",
       "            frameborder=\"0\"\n",
       "            allowfullscreen\n",
       "        ></iframe>\n",
       "        "
      ],
      "text/plain": [
       "<IPython.lib.display.YouTubeVideo at 0x7f16294b1048>"
      ]
     },
     "execution_count": 42,
     "metadata": {},
     "output_type": "execute_result"
    }
   ],
   "source": [
    "from IPython.lib.display import YouTubeVideo\n",
    "YouTubeVideo('ui-uNlFHoms')"
   ]
  },
  {
   "cell_type": "code",
   "execution_count": 43,
   "metadata": {
    "collapsed": false
   },
   "outputs": [
    {
     "data": {
      "image/jpeg": "[encoded data removed]",
      "text/html": [
       "\n",
       "        <iframe\n",
       "            width=\"400\"\n",
       "            height=\"300\"\n",
       "            src=\"https://www.youtube.com/embed/78YNphT90-k\"\n",
       "            frameborder=\"0\"\n",
       "            allowfullscreen\n",
       "        ></iframe>\n",
       "        "
      ],
      "text/plain": [
       "<IPython.lib.display.YouTubeVideo at 0x7f16640ceb70>"
      ]
     },
     "execution_count": 43,
     "metadata": {},
     "output_type": "execute_result"
    }
   ],
   "source": [
    "from IPython.lib.display import YouTubeVideo\n",
    "YouTubeVideo('78YNphT90-k')"
   ]
  },
  {
   "cell_type": "markdown",
   "metadata": {},
   "source": [
    "### Solution with QR Decomposition\n",
    "\n",
    "Performing a solve instead of a matrix inverse is the more numerically\n",
    "stable approach, but we can do even better. A\n",
    "[QR-decomposition](http://en.wikipedia.org/wiki/QR_decomposition) of a\n",
    "matrix factorises it into a matrix which is an orthogonal matrix\n",
    "$\\mathbf{Q}$, so that $\\mathbf{Q}^\\top \\mathbf{Q} = \\eye$. And a matrix\n",
    "which is upper triangular, $\\mathbf{R}$. $$\n",
    "\\inputMatrix^\\top \\inputMatrix \\boldsymbol{\\beta} =\n",
    "\\inputMatrix^\\top \\dataVector\n",
    "$$ $$\n",
    "(\\mathbf{Q}\\mathbf{R})^\\top\n",
    "(\\mathbf{Q}\\mathbf{R})\\boldsymbol{\\beta} = (\\mathbf{Q}\\mathbf{R})^\\top\n",
    "\\dataVector\n",
    "$$ $$\n",
    "\\mathbf{R}^\\top (\\mathbf{Q}^\\top \\mathbf{Q}) \\mathbf{R}\n",
    "\\boldsymbol{\\beta} = \\mathbf{R}^\\top \\mathbf{Q}^\\top \\dataVector\n",
    "$$ $$\n",
    "\\mathbf{R}^\\top \\mathbf{R} \\boldsymbol{\\beta} = \\mathbf{R}^\\top \\mathbf{Q}^\\top\n",
    "\\dataVector\n",
    "$$ $$\n",
    "\\mathbf{R} \\boldsymbol{\\beta} = \\mathbf{Q}^\\top \\dataVector\n",
    "$$ This is a more numerically stable solution because it removes the\n",
    "need to compute $\\inputMatrix^\\top\\inputMatrix$ as an intermediate.\n",
    "Computing $\\inputMatrix^\\top\\inputMatrix$ is a bad idea because it\n",
    "involves squaring all the elements of $\\inputMatrix$ and thereby\n",
    "potentially reducing the numerical precision with which we can represent\n",
    "the solution. Operating on $\\inputMatrix$ directly preserves the\n",
    "numerical precision of the model.\n",
    "\n",
    "This can be more particularly seen when we begin to work with *basis\n",
    "functions* in the next session. Some systems that can be resolved with\n",
    "the QR decomposition can not be resolved by using solve directly."
   ]
  },
  {
   "cell_type": "code",
   "execution_count": 44,
   "metadata": {
    "collapsed": false
   },
   "outputs": [
    {
     "data": {
      "text/html": [
       "<div>\n",
       "<style scoped>\n",
       "    .dataframe tbody tr th:only-of-type {\n",
       "        vertical-align: middle;\n",
       "    }\n",
       "\n",
       "    .dataframe tbody tr th {\n",
       "        vertical-align: top;\n",
       "    }\n",
       "\n",
       "    .dataframe thead th {\n",
       "        text-align: right;\n",
       "    }\n",
       "</style>\n",
       "<table border=\"1\" class=\"dataframe\">\n",
       "  <thead>\n",
       "    <tr style=\"text-align: right;\">\n",
       "      <th></th>\n",
       "      <th>0</th>\n",
       "    </tr>\n",
       "  </thead>\n",
       "  <tbody>\n",
       "    <tr>\n",
       "      <th>Year</th>\n",
       "      <td>-0.016280</td>\n",
       "    </tr>\n",
       "    <tr>\n",
       "      <th>Body_Count</th>\n",
       "      <td>-0.000995</td>\n",
       "    </tr>\n",
       "    <tr>\n",
       "      <th>Length_Minutes</th>\n",
       "      <td>0.025386</td>\n",
       "    </tr>\n",
       "    <tr>\n",
       "      <th>Eins</th>\n",
       "      <td>36.508363</td>\n",
       "    </tr>\n",
       "  </tbody>\n",
       "</table>\n",
       "</div>"
      ],
      "text/plain": [
       "                        0\n",
       "Year            -0.016280\n",
       "Body_Count      -0.000995\n",
       "Length_Minutes   0.025386\n",
       "Eins            36.508363"
      ]
     },
     "execution_count": 44,
     "metadata": {},
     "output_type": "execute_result"
    }
   ],
   "source": [
    "import scipy as sp\n",
    "Q, R = np.linalg.qr(X)\n",
    "w = sp.linalg.solve_triangular(R, np.dot(Q.T, y)) \n",
    "w = pd.DataFrame(w, index=X.columns)\n",
    "w"
   ]
  },
  {
   "cell_type": "markdown",
   "metadata": {},
   "source": [
    "### Reading\n",
    "\n",
    "-   Section 1.3 of @Rogers:book11 for Matrix & Vector Review.\n",
    "\n",
    "## Underdetermined System"
   ]
  },
  {
   "cell_type": "code",
   "execution_count": 45,
   "metadata": {
    "collapsed": true
   },
   "outputs": [],
   "source": [
    "import teaching_plots as plot"
   ]
  },
  {
   "cell_type": "code",
   "execution_count": 47,
   "metadata": {
    "collapsed": false
   },
   "outputs": [
    {
     "data": {
      "image/png": "[encoded data removed]",
      "text/plain": [
       "<matplotlib.figure.Figure at 0x7f1628f78c88>"
      ]
     },
     "metadata": {},
     "output_type": "display_data"
    }
   ],
   "source": [
    "plot.under_determined_system(diagrams='')"
   ]
  },
  {
   "cell_type": "markdown",
   "metadata": {},
   "source": [
    "What about the situation where you have more parameters than data in\n",
    "your simultaneous equation? This is known as an *underdetermined*\n",
    "system. In fact this set up is in some sense *easier* to solve, because\n",
    "we don't need to think about introducing a slack variable (although it\n",
    "might make a lot of sense from a *modelling* perspective to do so).\n",
    "\n",
    "The way Laplace proposed resolving an overdetermined system, was to\n",
    "introduce slack variables, $\\noiseScalar_i$, which needed to be\n",
    "estimated for each point. The slack variable represented the difference\n",
    "between our actual prediction and the true observation. This is known as\n",
    "the *residual*. By introducing the slack variable we now have an\n",
    "additional $n$ variables to estimate, one for each data point,\n",
    "$\\{\\noiseScalar_i\\}$. This actually turns the overdetermined system into\n",
    "an underdetermined system. Introduction of $n$ variables, plus the\n",
    "original $m$ and $c$ gives us $\\numData+2$ parameters to be estimated\n",
    "from $n$ observations, which actually makes the system\n",
    "*underdetermined*. However, we then made a probabilistic assumption\n",
    "about the slack variables, we assumed that the slack variables were\n",
    "distributed according to a probability density. And for the moment we\n",
    "have been assuming that density was the Gaussian,\n",
    "$$\\noiseScalar_i \\sim \\gaussianSamp{0}{\\dataStd^2},$$ with zero mean and\n",
    "variance $\\dataStd^2$.\n",
    "\n",
    "The follow up question is whether we can do the same thing with the\n",
    "parameters. If we have two parameters and only one unknown can we place\n",
    "a probability distribution over the parameters, as we did with the slack\n",
    "variables? The answer is yes.\n",
    "\n",
    "### Underdetermined System"
   ]
  },
  {
   "cell_type": "code",
   "execution_count": 48,
   "metadata": {
    "collapsed": true
   },
   "outputs": [],
   "source": [
    "import pods\n",
    "from ipywidgets import IntSlider"
   ]
  },
  {
   "cell_type": "code",
   "execution_count": 50,
   "metadata": {
    "collapsed": true
   },
   "outputs": [],
   "source": [
    "#pods.notebook.display_plots('under_determined_system{samp:0>3}.svg', \n",
    "#                            directory='', samp=IntSlider(0, 0, 10, 1))"
   ]
  },
  {
   "cell_type": "markdown",
   "metadata": {},
   "source": [
    "<center>\n",
    "*Fit underdetermined system by considering uncertainty *\n",
    "</center>\n",
    "### Basis Functions\n",
    "\n",
    "Here's the idea, instead of working directly on the original input\n",
    "space, $\\inputVector$, we build models in a new space,\n",
    "$\\basisVector(\\inputVector)$ where $\\basisVector(\\cdot)$ is a\n",
    "*vector-valued* function that is defined on the space $\\inputVector$.\n",
    "\n",
    "### Quadratic Basis\n",
    "\n",
    "Remember, that a *vector-valued function* is just a vector that contains\n",
    "functions instead of values. Here's an example for a one dimensional\n",
    "input space, $x$, being projected to a *quadratic* basis. First we\n",
    "consider each basis function in turn, we can think of the elements of\n",
    "our vector as being indexed so that we have $$\n",
    "\\begin{align*}\n",
    "\\basisFunc_1(\\inputScalar) = 1, \\\\\n",
    "\\basisFunc_2(\\inputScalar) = x, \\\\\n",
    "\\basisFunc_3(\\inputScalar) = \\inputScalar^2.\n",
    "\\end{align*}\n",
    "$$ Now we can consider them together by placing them in a vector, $$\n",
    "\\basisVector(\\inputScalar) = \\begin{bmatrix} 1\\\\ x \\\\ \\inputScalar^2\\end{bmatrix}.\n",
    "$$ For the vector-valued function, we have simply collected the\n",
    "different functions together in the same vector making them notationally\n",
    "easier to deal with in our mathematics.\n",
    "\n",
    "When we consider the vector-valued function for each data point, then we\n",
    "place all the data into a matrix. The result is a matrix valued\n",
    "function, $$\n",
    "\\basisMatrix(\\inputVector) = \n",
    "\\begin{bmatrix} 1 & \\inputScalar_1 &\n",
    "\\inputScalar_1^2 \\\\\n",
    "1 & \\inputScalar_2 & \\inputScalar_2^2\\\\\n",
    "\\vdots & \\vdots & \\vdots \\\\\n",
    "1 & \\inputScalar_n & \\inputScalar_n^2\n",
    "\\end{bmatrix}\n",
    "$$ where we are still in the one dimensional input setting so\n",
    "$\\inputVector$ here represents a vector of our inputs with $\\numData$\n",
    "elements.\n",
    "\n",
    "Let's try constructing such a matrix for a set of inputs. First of all,\n",
    "we create a function that returns the matrix valued function"
   ]
  },
  {
   "cell_type": "code",
   "execution_count": 51,
   "metadata": {
    "collapsed": true
   },
   "outputs": [],
   "source": [
    "import numpy as np"
   ]
  },
  {
   "cell_type": "code",
   "execution_count": 52,
   "metadata": {
    "collapsed": true
   },
   "outputs": [],
   "source": [
    "def quadratic(x, **kwargs):\n",
    "    \"\"\"Take in a vector of input values and return the design matrix associated \n",
    "    with the basis functions.\"\"\"\n",
    "    return np.hstack([np.ones((x.shape[0], 1)), x, x**2])"
   ]
  },
  {
   "cell_type": "markdown",
   "metadata": {},
   "source": [
    "### Functions Derived from Quadratic Basis\n",
    "\n",
    "$$\n",
    "\\mappingFunction(\\inputScalar) = {\\color{cyan}\\mappingScalar_0}   + {\\color{green}\\mappingScalar_1 \\inputScalar} + {\\color{yellow}\\mappingScalar_2 \\inputScalar^2}\n",
    "$$"
   ]
  },
  {
   "cell_type": "code",
   "execution_count": 53,
   "metadata": {
    "collapsed": true
   },
   "outputs": [],
   "source": [
    "import matplotlib.pyplot as plt\n",
    "import teaching_plots as plot"
   ]
  },
  {
   "cell_type": "code",
   "execution_count": 55,
   "metadata": {
    "collapsed": false
   },
   "outputs": [
    {
     "data": {
      "image/png": "[encoded data removed]",
      "text/plain": [
       "<matplotlib.figure.Figure at 0x7f163c0a0c88>"
      ]
     },
     "metadata": {},
     "output_type": "display_data"
    }
   ],
   "source": [
    "f, ax = plt.subplots(figsize=plot.big_wide_figsize)\n",
    "loc =[[0, 1.4,],\n",
    "      [0, -0.7],\n",
    "      [0.75, -0.2]]\n",
    "text =['$\\phi(x) = 1$',\n",
    "       '$\\phi(x) = x$',\n",
    "       '$\\phi(x) = x^2$']\n",
    "\n",
    "plot.basis(quadratic, x_min=-1.3, x_max=1.3, \n",
    "           fig=f, ax=ax, loc=loc, text=text,\n",
    "           diagrams='')"
   ]
  },
  {
   "cell_type": "code",
   "execution_count": 56,
   "metadata": {
    "collapsed": true
   },
   "outputs": [],
   "source": [
    "import pods\n",
    "from ipywidgets import IntSlider"
   ]
  },
  {
   "cell_type": "code",
   "execution_count": 58,
   "metadata": {
    "collapsed": true
   },
   "outputs": [],
   "source": [
    "#pods.notebook.display_plots('quadratic_basis{num_basis:0>3}.svg', \n",
    "#                           directory='', \n",
    "#                            num_basis=IntSlider(0,0,2,1))"
   ]
  },
  {
   "cell_type": "markdown",
   "metadata": {},
   "source": [
    "This function takes in an $\\numData \\times 1$ dimensional vector and\n",
    "returns an $\\numData \\times 3$ dimensional *design matrix* containing\n",
    "the basis functions. We can plot those basis functions against there\n",
    "input as follows."
   ]
  },
  {
   "cell_type": "code",
   "execution_count": 59,
   "metadata": {
    "collapsed": false
   },
   "outputs": [
    {
     "data": {
      "image/png": "[encoded data removed]",
      "text/plain": [
       "<matplotlib.figure.Figure at 0x7f163bf5a400>"
      ]
     },
     "metadata": {},
     "output_type": "display_data"
    }
   ],
   "source": [
    "# first let's generate some inputs\n",
    "n = 100\n",
    "x = np.zeros((n, 1))  # create a data set of zeros\n",
    "x[:, 0] = np.linspace(-1, 1, n) # fill it with values between -1 and 1\n",
    "\n",
    "Phi = quadratic(x)\n",
    "\n",
    "fig, ax = plt.subplots(figsize=plot.big_wide_figsize)\n",
    "ax.set_ylim([-1.2, 1.2]) # set y limits to ensure basis functions show.\n",
    "ax.plot(x[:,0], Phi[:, 0], 'r-', label = '$\\phi=1$', linewidth=3)\n",
    "ax.plot(x[:,0], Phi[:, 1], 'g-', label = '$\\phi=x$', linewidth=3)\n",
    "ax.plot(x[:,0], Phi[:, 2], 'b-', label = '$\\phi=x^2$', linewidth=3)\n",
    "ax.legend(loc='lower right')\n",
    "_ = ax.set_title('Quadratic Basis Functions')"
   ]
  },
  {
   "cell_type": "markdown",
   "metadata": {},
   "source": [
    "The actual function we observe is then made up of a sum of these\n",
    "functions. This is the reason for the name basis. The term *basis* means\n",
    "'the underlying support or foundation for an idea, argument, or\n",
    "process', and in this context they form the underlying support for our\n",
    "prediction function. Our prediction function can only be composed of a\n",
    "weighted linear sum of our basis functions.\n",
    "\n",
    "### Quadratic Functions"
   ]
  },
  {
   "cell_type": "code",
   "execution_count": 60,
   "metadata": {
    "collapsed": true
   },
   "outputs": [],
   "source": [
    "import pods\n",
    "from ipywidgets import IntSlider"
   ]
  },
  {
   "cell_type": "code",
   "execution_count": 63,
   "metadata": {
    "collapsed": true
   },
   "outputs": [],
   "source": [
    "#pods.notebook.display_plots('quadratic_function{num_function:0>3}.svg', \n",
    "#                            directory='', \n",
    "#                            num_basis=IntSlider(0,0,2,1))"
   ]
  },
  {
   "cell_type": "markdown",
   "metadata": {},
   "source": [
    "### Alan Turing\n",
    "\n",
    "<table>\n",
    "<tr>\n",
    "<td width=\"50%\">\n",
    "<img class=\"\" src=\"turing-times.gif\" width=\"\" align=\"center\" style=\"background:none; border:none; box-shadow:none;\">\n",
    "</td>\n",
    "<td width=\"50%\">\n",
    "<img class=\"\" src=\"turing-run.jpg\" width=\"\" align=\"center\" style=\"background:none; border:none; box-shadow:none;\">\n",
    "</td>\n",
    "</tr>\n",
    "</table>\n",
    "<center>\n",
    "*Alan Turing, in 1946 he was only 11 minutes slower than the winner of\n",
    "the 1948 games. Would he have won a hypothetical games held in 1946?\n",
    "Source: [Alan Turing Internet\n",
    "Scrapbook](http://www.turing.org.uk/scrapbook/run.html).*\n",
    "</center>\n",
    "If we had to summarise the objectives of machine learning in one word, a\n",
    "very good candidate for that word would be *generalization*. What is\n",
    "generalization? From a human perspective it might be summarised as the\n",
    "ability to take lessons learned in one domain and apply them to another\n",
    "domain. If we accept the definition given in the first session for\n",
    "machine learning, $$\n",
    "\\text{data} + \\text{model} \\xrightarrow{\\text{compute}} \\text{prediction}\n",
    "$$ then we see that without a model we can't generalise: we only have\n",
    "data. Data is fine for answering very specific questions, like \"Who won\n",
    "the Olympic Marathon in 2012?\", because we have that answer stored,\n",
    "however, we are not given the answer to many other questions. For\n",
    "example, Alan Turing was a formidable marathon runner, in 1946 he ran a\n",
    "time 2 hours 46 minutes (just under four minutes per kilometer, faster\n",
    "than I and most of the other [Endcliffe Park\n",
    "Run](http://www.parkrun.org.uk/sheffieldhallam/) runners can do 5 km).\n",
    "What is the probability he would have won an Olympics if one had been\n",
    "held in 1946?\n",
    "\n",
    "To answer this question we need to generalize, but before we formalize\n",
    "the concept of generalization let's introduce some formal representation\n",
    "of what it means to generalize in machine learning.\n",
    "\n",
    "<center>\n",
    "*Combining a Gaussian likelihood with a Gaussian prior to form a\n",
    "Gaussian posterior *\n",
    "</center>\n",
    "### Main Trick\n",
    "\n",
    "$$p(c) = \\frac{1}{\\sqrt{2\\pi\\alpha_1}} \\exp\\left(-\\frac{1}{2\\alpha_1}c^2\\right)$$\n",
    "$$p(\\dataVector|\\inputVector, c, m, \\dataStd^2) = \\frac{1}{\\left(2\\pi\\dataStd^2\\right)^{\\frac{\\numData}{2}}} \\exp\\left(-\\frac{1}{2\\dataStd^2}\\sum_{i=1}^\\numData(\\dataScalar_i - m\\inputScalar_i - c)^2\\right)$$\n",
    "\n",
    "### \n",
    "\n",
    "$$p(c| \\dataVector, \\inputVector, m, \\dataStd^2) = \\frac{p(\\dataVector|\\inputVector, c, m, \\dataStd^2)p(c)}{p(\\dataVector|\\inputVector, m, \\dataStd^2)}$$\n",
    "\n",
    "$$p(c| \\dataVector, \\inputVector, m, \\dataStd^2) =  \\frac{p(\\dataVector|\\inputVector, c, m, \\dataStd^2)p(c)}{\\int p(\\dataVector|\\inputVector, c, m, \\dataStd^2)p(c) \\text{d} c}$$\n",
    "\n",
    "### \n",
    "\n",
    "$$p(c| \\dataVector, \\inputVector, m, \\dataStd^2) \\propto  p(\\dataVector|\\inputVector, c, m, \\dataStd^2)p(c)$$\n",
    "\n",
    "$$\\begin{aligned}\n",
    "    \\log p(c | \\dataVector, \\inputVector, m, \\dataStd^2) =&-\\frac{1}{2\\dataStd^2} \\sum_{i=1}^\\numData(\\dataScalar_i-c - m\\inputScalar_i)^2-\\frac{1}{2\\alpha_1} c^2 + \\text{const}\\\\\n",
    "     = &-\\frac{1}{2\\dataStd^2}\\sum_{i=1}^\\numData(\\dataScalar_i-m\\inputScalar_i)^2 -\\left(\\frac{\\numData}{2\\dataStd^2} + \\frac{1}{2\\alpha_1}\\right)c^2\\\\\n",
    "    & + c\\frac{\\sum_{i=1}^\\numData(\\dataScalar_i-m\\inputScalar_i)}{\\dataStd^2},\n",
    "  \\end{aligned}$$\n",
    "\n",
    "### \n",
    "\n",
    "complete the square of the quadratic form to obtain\n",
    "$$\\log p(c | \\dataVector, \\inputVector, m, \\dataStd^2) = -\\frac{1}{2\\tau^2}(c - \\mu)^2 +\\text{const},$$\n",
    "where $\\tau^2 = \\left(\\numData\\dataStd^{-2} +\\alpha_1^{-1}\\right)^{-1}$\n",
    "and\n",
    "$\\mu = \\frac{\\tau^2}{\\dataStd^2} \\sum_{i=1}^\\numData(\\dataScalar_i-m\\inputScalar_i)$.\n",
    "\n",
    "### Two Dimensional Gaussian\n",
    "\n",
    "-   Consider height, $h/m$ and weight, $w/kg$.\n",
    "-   Could sample height from a distribution: $$\n",
    "      p(h) \\sim \\gaussianSamp{1.7}{0.0225}\n",
    "      $$\n",
    "-   And similarly weight: $$\n",
    "      p(w) \\sim \\gaussianSamp{75}{36}\n",
    "      $$\n",
    "\n",
    "<center>\n",
    "*Samples from independent Gaussian variables that might represent\n",
    "heights and weights. *\n",
    "</center>\n",
    "### Independence Assumption\n",
    "\n",
    "-   This assumes height and weight are independent.\n",
    "    $$p(h, w) = p(h)p(w)$$\n",
    "\n",
    "-   In reality they are dependent (body mass index) $= \\frac{w}{h^2}$.\n",
    "\n",
    "<center>\n",
    "*Samples from correlated Gaussian variables that might represent heights\n",
    "and weights. *\n",
    "</center>\n",
    "### Independent Gaussians\n",
    "\n",
    "$$\n",
    "p(w, h) = p(w)p(h)\n",
    "$$\n",
    "\n",
    "$$\n",
    "p(w, h) = \\frac{1}{\\sqrt{2\\pi \\dataStd_1^2}\\sqrt{2\\pi\\dataStd_2^2}} \\exp\\left(-\\frac{1}{2}\\left(\\frac{(w-\\meanScalar_1)^2}{\\dataStd_1^2} + \\frac{(h-\\meanScalar_2)^2}{\\dataStd_2^2}\\right)\\right)\n",
    "$$\n",
    "\n",
    "$$\n",
    "p(w, h) = \\frac{1}{\\sqrt{2\\pi\\dataStd_1^22\\pi\\dataStd_2^2}} \\exp\\left(-\\frac{1}{2}\\left(\\begin{bmatrix}w \\\\ h\\end{bmatrix} - \\begin{bmatrix}\\meanScalar_1 \\\\ \\meanScalar_2\\end{bmatrix}\\right)^\\top\\begin{bmatrix}\\dataStd_1^2& 0\\\\0&\\dataStd_2^2\\end{bmatrix}^{-1}\\left(\\begin{bmatrix}w \\\\ h\\end{bmatrix} - \\begin{bmatrix}\\meanScalar_1 \\\\ \\meanScalar_2\\end{bmatrix}\\right)\\right)\n",
    "$$\n",
    "\n",
    "$$\n",
    "p(\\dataVector) = \\frac{1}{\\det{2\\pi \\mathbf{D}}^{\\frac{1}{2}}} \\exp\\left(-\\frac{1}{2}(\\dataVector - \\meanVector)^\\top\\mathbf{D}^{-1}(\\dataVector - \\meanVector)\\right)\n",
    "$$\n",
    "\n",
    "### Correlated Gaussian\n",
    "\n",
    "Form correlated from original by rotating the data space using matrix\n",
    "$\\rotationMatrix$.\n",
    "\n",
    "$$\n",
    "p(\\dataVector) = \\frac{1}{\\det{2\\pi\\mathbf{D}}^{\\frac{1}{2}}} \\exp\\left(-\\frac{1}{2}(\\dataVector - \\meanVector)^\\top\\mathbf{D}^{-1}(\\dataVector - \\meanVector)\\right)\n",
    "$$\n",
    "\n",
    "$$\n",
    "p(\\dataVector) = \\frac{1}{\\det{2\\pi\\mathbf{D}}^{\\frac{1}{2}}} \\exp\\left(-\\frac{1}{2}(\\rotationMatrix^\\top\\dataVector - \\rotationMatrix^\\top\\meanVector)^\\top\\mathbf{D}^{-1}(\\rotationMatrix^\\top\\dataVector - \\rotationMatrix^\\top\\meanVector)\\right)\n",
    "$$\n",
    "\n",
    "$$\n",
    "p(\\dataVector) = \\frac{1}{\\det{2\\pi\\mathbf{D}}^{\\frac{1}{2}}} \\exp\\left(-\\frac{1}{2}(\\dataVector - \\meanVector)^\\top\\rotationMatrix\\mathbf{D}^{-1}\\rotationMatrix^\\top(\\dataVector - \\meanVector)\\right)\n",
    "$$ this gives a covariance matrix: $$\n",
    "\\covarianceMatrix^{-1} = \\rotationMatrix \\mathbf{D}^{-1} \\rotationMatrix^\\top\n",
    "$$\n",
    "\n",
    "$$\n",
    "p(\\dataVector) = \\frac{1}{\\det{2\\pi\\covarianceMatrix}^{\\frac{1}{2}}} \\exp\\left(-\\frac{1}{2}(\\dataVector - \\meanVector)^\\top\\covarianceMatrix^{-1} (\\dataVector - \\meanVector)\\right)\n",
    "$$ this gives a covariance matrix: $$\n",
    "\\covarianceMatrix = \\rotationMatrix \\mathbf{D} \\rotationMatrix^\\top\n",
    "$$\n",
    "\n",
    "### Generating from the Model\n",
    "\n",
    "A very important aspect of probabilistic modelling is to *sample* from\n",
    "your model to see what type of assumptions you are making about your\n",
    "data. In this case that involves a two stage process.\n",
    "\n",
    "1.  Sample a candiate parameter vector from the prior.\n",
    "2.  Place the candidate parameter vector in the likelihood and sample\n",
    "    functions conditiond on that candidate vector.\n",
    "3.  Repeat to try and characterise the type of functions you are\n",
    "    generating.\n",
    "\n",
    "Given a prior variance (as defined above) we can now sample from the\n",
    "prior distribution and combine with a basis set to see what assumptions\n",
    "we are making about the functions *a priori* (i.e. before we've seen the\n",
    "data). Firstly we compute the basis function matrix. We will do it both\n",
    "for our training data, and for a range of prediction locations\n",
    "(`x_pred`)."
   ]
  },
  {
   "cell_type": "code",
   "execution_count": 64,
   "metadata": {
    "collapsed": true
   },
   "outputs": [],
   "source": [
    "import numpy as np\n",
    "import pods"
   ]
  },
  {
   "cell_type": "code",
   "execution_count": 65,
   "metadata": {
    "collapsed": true
   },
   "outputs": [],
   "source": [
    "data = pods.datasets.olympic_marathon_men()\n",
    "x = data['X']\n",
    "y = data['Y']\n",
    "num_data = x.shape[0]\n",
    "num_pred_data = 100 # how many points to use for plotting predictions\n",
    "x_pred = np.linspace(1890, 2016, num_pred_data)[:, None] # input locations for predictions"
   ]
  },
  {
   "cell_type": "markdown",
   "metadata": {},
   "source": [
    "now let's build the basis matrices. We define the polynomial basis as\n",
    "follows."
   ]
  },
  {
   "cell_type": "code",
   "execution_count": 66,
   "metadata": {
    "collapsed": true
   },
   "outputs": [],
   "source": [
    "def polynomial(x, num_basis=2, loc=0., scale=1.):\n",
    "    degree=num_basis-1\n",
    "    degrees = np.arange(degree+1)\n",
    "    return ((x-loc)/scale)**degrees"
   ]
  },
  {
   "cell_type": "code",
   "execution_count": 67,
   "metadata": {
    "collapsed": true
   },
   "outputs": [],
   "source": [
    "import mlai"
   ]
  },
  {
   "cell_type": "code",
   "execution_count": 68,
   "metadata": {
    "collapsed": true
   },
   "outputs": [],
   "source": [
    "loc=1950\n",
    "scale=1\n",
    "degree=4\n",
    "basis = mlai.basis(polynomial, number=degree+1, loc=loc, scale=scale)\n",
    "Phi_pred = basis.Phi(x_pred)\n",
    "Phi = basis.Phi(x)"
   ]
  },
  {
   "cell_type": "markdown",
   "metadata": {},
   "source": [
    "### Sampling from the Prior\n",
    "\n",
    "Now we will sample from the prior to produce a vector $\\mappingVector$\n",
    "and use it to plot a function which is representative of our belief\n",
    "*before* we fit the data. To do this we are going to use the properties\n",
    "of the Gaussian density and a sample from a *standard normal* using the\n",
    "function `np.random.normal`.\n",
    "\n",
    "### Scaling Gaussian-distributed Variables\n",
    "\n",
    "First, let's consider the case where we have one data point and one\n",
    "feature in our basis set. In otherwords $\\mappingFunctionVector$ would\n",
    "be a scalar, $\\mappingVector$ would be a scalar and $\\basisMatrix$ would\n",
    "be a scalar. In this case we have $$\n",
    "\\mappingFunction = \\basisScalar \\mappingScalar\n",
    "$$ If $\\mappingScalar$ is drawn from a normal density, $$\n",
    "\\mappingScalar \\sim \\gaussianSamp{\\meanScalar_\\mappingScalar}{c_\\mappingScalar}\n",
    "$$ and $\\basisScalar$ is a scalar value which we are given, then\n",
    "properties of the Gaussian density tell us that $$\n",
    "\\basisScalar \\mappingScalar \\sim \\gaussianSamp{\\basisScalar\\meanScalar_\\mappingScalar}{\\basisScalar^2c_\\mappingScalar}\n",
    "$$ Let's test this out numerically. First we will draw 200 samples from\n",
    "a standard normal,"
   ]
  },
  {
   "cell_type": "code",
   "execution_count": 69,
   "metadata": {
    "collapsed": true
   },
   "outputs": [],
   "source": [
    "w_vec = np.random.normal(size=200)"
   ]
  },
  {
   "cell_type": "markdown",
   "metadata": {},
   "source": [
    "We can compute the mean of these samples and their variance"
   ]
  },
  {
   "cell_type": "code",
   "execution_count": 70,
   "metadata": {
    "collapsed": false
   },
   "outputs": [
    {
     "name": "stdout",
     "output_type": "stream",
     "text": [
      "w sample mean is  0.030098266060772923\n",
      "w sample variance is  0.9626863233675601\n"
     ]
    }
   ],
   "source": [
    "print('w sample mean is ', w_vec.mean())\n",
    "print('w sample variance is ', w_vec.var())"
   ]
  },
  {
   "cell_type": "markdown",
   "metadata": {},
   "source": [
    "These are close to zero (the mean) and one (the variance) as you'd\n",
    "expect. Now compute the mean and variance of the scaled version,"
   ]
  },
  {
   "cell_type": "code",
   "execution_count": 71,
   "metadata": {
    "collapsed": false
   },
   "outputs": [
    {
     "name": "stdout",
     "output_type": "stream",
     "text": [
      "True mean should be phi*0 = 0.\n",
      "True variance should be phi*phi*1 =  49\n",
      "f sample mean is  0.21068786242541054\n",
      "f sample variance is  47.17162984501046\n"
     ]
    }
   ],
   "source": [
    "phi = 7\n",
    "f_vec = phi*w_vec\n",
    "print('True mean should be phi*0 = 0.')\n",
    "print('True variance should be phi*phi*1 = ', phi*phi)\n",
    "print('f sample mean is ', f_vec.mean())\n",
    "print('f sample variance is ', f_vec.var())"
   ]
  },
  {
   "cell_type": "markdown",
   "metadata": {},
   "source": [
    "If you increase the number of samples then you will see that the sample\n",
    "mean and the sample variance begin to converge towards the true mean and\n",
    "the true variance. Obviously adding an offset to a sample from\n",
    "`np.random.normal` will change the mean. So if you want to sample from a\n",
    "Gaussian with mean `mu` and standard deviation `sigma` one way of doing\n",
    "it is to sample from the standard normal and scale and shift the result,\n",
    "so to sample a set of $\\mappingScalar$ from a Gaussian with mean\n",
    "$\\meanScalar$ and variance $\\alpha$,\n",
    "$$\\mappingScalar \\sim \\gaussianSamp{\\meanScalar}{\\alpha}$$ We can simply\n",
    "scale and offset samples from the *standard normal*."
   ]
  },
  {
   "cell_type": "code",
   "execution_count": 72,
   "metadata": {
    "collapsed": false
   },
   "outputs": [
    {
     "name": "stdout",
     "output_type": "stream",
     "text": [
      "w sample mean is  4.080870100114438\n",
      "w sample variance is  1.5498679812273934\n"
     ]
    }
   ],
   "source": [
    "mu = 4 # mean of the distribution\n",
    "alpha = 2 # variance of the distribution\n",
    "w_vec = np.random.normal(size=200)*np.sqrt(alpha) + mu\n",
    "print('w sample mean is ', w_vec.mean())\n",
    "print('w sample variance is ', w_vec.var())"
   ]
  },
  {
   "cell_type": "markdown",
   "metadata": {},
   "source": [
    "Here the `np.sqrt` is necesssary because we need to multiply by the\n",
    "standard deviation and we specified the variance as `alpha`. So scaling\n",
    "and offsetting a Gaussian distributed variable keeps the variable\n",
    "Gaussian, but it effects the mean and variance of the resulting\n",
    "variable.\n",
    "\n",
    "To get an idea of the overall shape of the resulting distribution, let's\n",
    "do the same thing with a histogram of the results."
   ]
  },
  {
   "cell_type": "code",
   "execution_count": 73,
   "metadata": {
    "collapsed": true
   },
   "outputs": [],
   "source": [
    "%matplotlib inline"
   ]
  },
  {
   "cell_type": "code",
   "execution_count": 74,
   "metadata": {
    "collapsed": true
   },
   "outputs": [],
   "source": [
    "import matplotlib.pyplot as plt\n",
    "import teaching_plots as plot"
   ]
  },
  {
   "cell_type": "code",
   "execution_count": 75,
   "metadata": {
    "collapsed": false
   },
   "outputs": [
    {
     "data": {
      "image/png": "[encoded data removed]",
      "text/plain": [
       "<matplotlib.figure.Figure at 0x7f16291c2160>"
      ]
     },
     "metadata": {},
     "output_type": "display_data"
    }
   ],
   "source": [
    "# First the standard normal\n",
    "z_vec = np.random.normal(size=1000) # by convention, in statistics, z is often used to denote samples from the standard normal\n",
    "w_vec = z_vec*np.sqrt(alpha) + mu\n",
    "# plot normalized histogram of w, and then normalized histogram of z on top\n",
    "fig, ax = plt.subplots(figsize=plot.big_wide_figsize)\n",
    "ax.hist(w_vec, bins=30, density=True)\n",
    "ax.hist(z_vec, bins=30, density=True)\n",
    "_ = ax.legend(('$w$', '$z$'))"
   ]
  },
  {
   "cell_type": "markdown",
   "metadata": {},
   "source": [
    "Now re-run this histogram with 100,000 samples and check that the both\n",
    "histograms look qualitatively Gaussian.\n",
    "\n",
    "### Sampling from the Prior\n",
    "\n",
    "Let's use this way of constructing samples from a Gaussian to check what\n",
    "functions look like *a priori*. The process will be as follows. First,\n",
    "we sample a random vector $K$ dimensional from `np.random.normal`. Then\n",
    "we scale it by $\\sqrt{\\alpha}$ to obtain a prior sample of\n",
    "$\\mappingVector$."
   ]
  },
  {
   "cell_type": "code",
   "execution_count": 76,
   "metadata": {
    "collapsed": false
   },
   "outputs": [
    {
     "name": "stdout",
     "output_type": "stream",
     "text": [
      "[ 0.10635007 -1.41984901  1.7064365  -2.64739075  0.8791477 ]\n"
     ]
    }
   ],
   "source": [
    "K = degree + 1\n",
    "z_vec = np.random.normal(size=K)\n",
    "w_sample = z_vec*np.sqrt(alpha)\n",
    "print(w_sample)"
   ]
  },
  {
   "cell_type": "markdown",
   "metadata": {},
   "source": [
    "Now we can combine our sample from the prior with the basis functions to\n",
    "create a function,"
   ]
  },
  {
   "cell_type": "code",
   "execution_count": 77,
   "metadata": {
    "collapsed": false
   },
   "outputs": [
    {
     "data": {
      "image/png": "[encoded data removed]",
      "text/plain": [
       "<matplotlib.figure.Figure at 0x7f163bf38cc0>"
      ]
     },
     "metadata": {},
     "output_type": "display_data"
    }
   ],
   "source": [
    "f_sample = np.dot(Phi_pred,w_sample)\n",
    "fig, ax = plt.subplots(figsize=plot.big_wide_figsize)\n",
    "_ = ax.plot(x_pred.flatten(), f_sample.flatten(), 'r-', linewidth=3)"
   ]
  },
  {
   "cell_type": "markdown",
   "metadata": {},
   "source": [
    "This shows the recurring problem with the polynomial basis (note the\n",
    "scale on the left hand side!). Our prior allows relatively large\n",
    "coefficients for the basis associated with high polynomial degrees.\n",
    "Because we are operating with input values of around 2000, this leads to\n",
    "output functions of very high values. The fix we have used for this\n",
    "before is to rescale our data before we apply the polynomial basis to\n",
    "it. Above, we set the scale of the basis to 1. Here let's set it to 100\n",
    "and try again."
   ]
  },
  {
   "cell_type": "code",
   "execution_count": 78,
   "metadata": {
    "collapsed": true
   },
   "outputs": [],
   "source": [
    "scale = 100.\n",
    "basis = mlai.basis(polynomial, number=degree+1, loc=loc, scale=scale)\n",
    "Phi_pred = basis.Phi(x_pred)\n",
    "Phi = basis.Phi(x)"
   ]
  },
  {
   "cell_type": "markdown",
   "metadata": {},
   "source": [
    "Now we need to recompute the basis functions from above,"
   ]
  },
  {
   "cell_type": "code",
   "execution_count": 79,
   "metadata": {
    "collapsed": false
   },
   "outputs": [
    {
     "data": {
      "image/png": "[encoded data removed]",
      "text/plain": [
       "<matplotlib.figure.Figure at 0x7f163c3db668>"
      ]
     },
     "metadata": {},
     "output_type": "display_data"
    }
   ],
   "source": [
    "f_sample = np.dot(Phi_pred, w_sample)\n",
    "fig, ax = plt.subplots(figsize=plot.big_wide_figsize)\n",
    "_ = ax.plot(x_pred.flatten(), f_sample.flatten(), 'r-', linewidth=3)"
   ]
  },
  {
   "cell_type": "markdown",
   "metadata": {},
   "source": [
    "Now let's loop through some samples and plot various functions as\n",
    "samples from this system,"
   ]
  },
  {
   "cell_type": "code",
   "execution_count": 80,
   "metadata": {
    "collapsed": false
   },
   "outputs": [
    {
     "data": {
      "image/png": "[encoded data removed]",
      "text/plain": [
       "<matplotlib.figure.Figure at 0x7f163c289128>"
      ]
     },
     "metadata": {},
     "output_type": "display_data"
    }
   ],
   "source": [
    "num_samples = 10\n",
    "K = degree+1\n",
    "fig, ax = plt.subplots(figsize=plot.big_wide_figsize)\n",
    "for i in range(num_samples):\n",
    "    z_vec = np.random.normal(size=K)\n",
    "    w_sample = z_vec*np.sqrt(alpha)\n",
    "    f_sample = np.dot(Phi_pred,w_sample)\n",
    "    _ = ax.plot(x_pred.flatten(), f_sample.flatten(), linewidth=2)"
   ]
  },
  {
   "cell_type": "markdown",
   "metadata": {},
   "source": [
    "The predictions for the mean output can now be computed. We want the\n",
    "expected value of the predictions under the posterior distribution. In\n",
    "matrix form, the predictions can be computed as $$\n",
    "\\mappingFunctionVector = \\basisMatrix \\mappingVector.\n",
    "$$ This involves a matrix multiplication between a fixed matrix\n",
    "$\\basisMatrix$ and a vector that is drawn from a distribution\n",
    "$\\mappingVector$. Because $\\mappingVector$ is drawn from a distribution,\n",
    "this imples that $\\mappingFunctionVector$ should also be drawn from a\n",
    "distribution. There are two distributions we are interested in though.\n",
    "We have just been sampling from the *prior* distribution to see what\n",
    "sort of functions we get *before* looking at the data. In Bayesian\n",
    "inference, we need to computer the *posterior* distribution and sample\n",
    "from that density.\n",
    "\n",
    "### Computing the Posterior\n",
    "\n",
    "We will now attampt to compute the *posterior distribution*. In the\n",
    "lecture we went through the maths that allows us to compute the\n",
    "posterior distribution for $\\mappingVector$. This distribution is also\n",
    "Gaussian, $$\n",
    "p(\\mappingVector | \\dataVector, \\inputVector, \\dataStd^2) = \\gaussianDist{\\mappingVector}{\\meanVector_\\mappingScalar}{\\covarianceMatrix_\\mappingScalar}\n",
    "$$ with covariance, $\\covarianceMatrix_\\mappingScalar$, given by $$\n",
    "\\covarianceMatrix_\\mappingScalar = \\left(\\dataStd^{-2}\\basisMatrix^\\top \\basisMatrix + \\alpha^{-1}\\eye\\right)^{-1}\n",
    "$$ whilst the mean is given by $$\n",
    "\\meanVector_\\mappingScalar = \\covarianceMatrix_\\mappingScalar \\dataStd^{-2}\\basisMatrix^\\top \\dataVector\n",
    "$$ Let's compute the posterior covariance and mean, then we'll sample\n",
    "from these densities to have a look at the posterior belief about\n",
    "$\\mappingVector$ once the data has been accounted for. Remember, the\n",
    "process of Bayesian inference involves combining the prior,\n",
    "$p(\\mappingVector)$ with the likelihood,\n",
    "$p(\\dataVector|\\inputVector, \\mappingVector)$ to form the posterior,\n",
    "$p(\\mappingVector | \\dataVector, \\inputVector)$ through Bayes' rule, $$\n",
    "p(\\mappingVector|\\dataVector, \\inputVector) = \\frac{p(\\dataVector|\\inputVector, \\mappingVector)p(\\mappingVector)}{p(\\dataVector)}\n",
    "$$ We've looked at the samples for our function\n",
    "$\\mappingFunctionVector = \\basisMatrix\\mappingVector$, which forms the\n",
    "mean of the Gaussian likelihood, under the prior distribution. I.e.\n",
    "we've sampled from $p(\\mappingVector)$ and multiplied the result by the\n",
    "basis matrix. Now we will sample from the posterior density,\n",
    "$p(\\mappingVector|\\dataVector, \\inputVector)$, and check that the new\n",
    "samples fit do correspond to the data, i.e. we want to check that the\n",
    "updated distribution includes information from the data set. First we\n",
    "need to compute the posterior mean and *covariance*.\n",
    "\n",
    "### Bayesian Inference in the Univariate Case\n",
    "\n",
    "This video talks about Bayesian inference across the single parameter,\n",
    "the offset $c$, illustrating how the prior and the likelihood combine in\n",
    "one dimension to form a posterior."
   ]
  },
  {
   "cell_type": "code",
   "execution_count": 81,
   "metadata": {
    "collapsed": false
   },
   "outputs": [
    {
     "data": {
      "image/jpeg": "[encoded data removed]",
      "text/html": [
       "\n",
       "        <iframe\n",
       "            width=\"400\"\n",
       "            height=\"300\"\n",
       "            src=\"https://www.youtube.com/embed/AvlnFnvFw_0\"\n",
       "            frameborder=\"0\"\n",
       "            allowfullscreen\n",
       "        ></iframe>\n",
       "        "
      ],
      "text/plain": [
       "<IPython.lib.display.YouTubeVideo at 0x7f163c3844e0>"
      ]
     },
     "execution_count": 81,
     "metadata": {},
     "output_type": "execute_result"
    }
   ],
   "source": [
    "from IPython.lib.display import YouTubeVideo\n",
    "YouTubeVideo('AvlnFnvFw_0')"
   ]
  },
  {
   "cell_type": "markdown",
   "metadata": {},
   "source": [
    "### Multivariate Bayesian Inference\n",
    "\n",
    "This section of the lecture talks about how we extend the idea of\n",
    "Bayesian inference for the multivariate case. It goes through the\n",
    "multivariate Gaussian and how to complete the square in the linear\n",
    "algebra as we managed below."
   ]
  },
  {
   "cell_type": "code",
   "execution_count": 82,
   "metadata": {
    "collapsed": false
   },
   "outputs": [
    {
     "data": {
      "image/jpeg": "[encoded data removed]",
      "text/html": [
       "\n",
       "        <iframe\n",
       "            width=\"400\"\n",
       "            height=\"300\"\n",
       "            src=\"https://www.youtube.com/embed/Os1iqgpelPw\"\n",
       "            frameborder=\"0\"\n",
       "            allowfullscreen\n",
       "        ></iframe>\n",
       "        "
      ],
      "text/plain": [
       "<IPython.lib.display.YouTubeVideo at 0x7f163c384a90>"
      ]
     },
     "execution_count": 82,
     "metadata": {},
     "output_type": "execute_result"
    }
   ],
   "source": [
    "from IPython.lib.display import YouTubeVideo\n",
    "YouTubeVideo('Os1iqgpelPw')"
   ]
  },
  {
   "cell_type": "markdown",
   "metadata": {},
   "source": [
    "The lecture informs us the the posterior density for $\\mappingVector$ is\n",
    "given by a Gaussian density with covariance $$\n",
    "\\covarianceMatrix_w = \\left(\\dataStd^{-2}\\basisMatrix^\\top \\basisMatrix + \\alpha^{-1}\\eye\\right)^{-1}\n",
    "$$ and mean $$\n",
    "\\meanVector_w = \\covarianceMatrix_w\\dataStd^{-2}\\basisMatrix^\\top \\dataVector.\n",
    "$$\n",
    "\n",
    "### Question 1\n",
    "\n",
    "Compute the covariance for $\\mappingVector$ given the training data,\n",
    "call the resulting variable `w_cov`. Compute the mean for\n",
    "$\\mappingVector$ given the training data. Call the resulting variable\n",
    "`w_mean`. Assume that $\\dataStd^2 = 0.01$\n",
    "\n",
    "*10 marks*"
   ]
  },
  {
   "cell_type": "code",
   "execution_count": 83,
   "metadata": {
    "collapsed": true
   },
   "outputs": [],
   "source": [
    "# Write your answer to Question 1 here"
   ]
  },
  {
   "cell_type": "markdown",
   "metadata": {},
   "source": [
    "### Marginal Likelihood\n",
    "\n",
    "-   The marginal likelihood can also be computed, it has the form: $$\n",
    "      p(\\dataVector|\\inputMatrix, \\dataStd^2, \\alpha) = \\frac{1}{(2\\pi)^\\frac{n}{2}\\left|\\kernelMatrix\\right|^\\frac{1}{2}} \\exp\\left(-\\frac{1}{2} \\dataVector^\\top \\kernelMatrix^{-1} \\dataVector\\right)\n",
    "      $$ where\n",
    "    $\\kernelMatrix = \\alpha \\basisMatrix\\basisMatrix^\\top + \\dataStd^2 \\eye$.\n",
    "\n",
    "-   So it is a zero mean $\\numData$-dimensional Gaussian with covariance\n",
    "    matrix $\\kernelMatrix$.\n",
    "\n",
    "### References {#references .unnumbered}"
   ]
  }
 ],
 "metadata": {
  "kernelspec": {
   "display_name": "Python 3",
   "language": "python",
   "name": "python3"
  },
  "language_info": {
   "codemirror_mode": {
    "name": "ipython",
    "version": 3
   },
   "file_extension": ".py",
   "mimetype": "text/x-python",
   "name": "python",
   "nbconvert_exporter": "python",
   "pygments_lexer": "ipython3",
   "version": "3.6.0"
  }
 },
 "nbformat": 4,
 "nbformat_minor": 2
}
